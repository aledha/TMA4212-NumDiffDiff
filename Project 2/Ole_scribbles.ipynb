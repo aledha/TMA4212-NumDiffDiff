{
 "cells": [
  {
   "cell_type": "code",
   "execution_count": 43,
   "metadata": {},
   "outputs": [],
   "source": [
    "%matplotlib inline\n",
    "import numpy as np\n",
    "import matplotlib.pyplot as plt\n",
    "from scipy import integrate\n",
    "newparams = {'figure.figsize': (8.0, 4.0), 'axes.grid': True,\n",
    "             'lines.markersize': 8, 'lines.linewidth': 2,\n",
    "             'font.size': 14}\n",
    "plt.rcParams.update(newparams)"
   ]
  },
  {
   "cell_type": "code",
   "execution_count": 59,
   "metadata": {},
   "outputs": [
    {
     "data": {
      "text/plain": [
       "[<matplotlib.lines.Line2D at 0x194ffcda910>]"
      ]
     },
     "execution_count": 59,
     "metadata": {},
     "output_type": "execute_result"
    },
    {
     "data": {
      "image/png": "[encoded data removed]",
      "text/plain": [
       "<Figure size 576x288 with 1 Axes>"
      ]
     },
     "metadata": {
      "needs_background": "light"
     },
     "output_type": "display_data"
    }
   ],
   "source": [
    "def inv_cheb_nodes(n):\n",
    "    # This function assumes we're on the interval [0,1].\n",
    "    doubble_n = 2*n\n",
    "    cheb_nodes = np.arange( doubble_n, dtype = float)\n",
    "    cheb_nodes = np.cos( (((2*cheb_nodes)+1)*np.pi) / (2 * doubble_n))# nodes over interval [-1,1]\n",
    "    cheb_nodes = 0.5*2*cheb_nodes + 0.5*2 # nodes over interval [0,2]\n",
    "    cheb_nodes = np.sort(cheb_nodes) # flipping to get the correct subinterval\n",
    "    return  cheb_nodes[:n]# only returning nodes over interval [0,1] \n",
    "\n",
    "n = 5\n",
    "nodes = inv_cheb_nodes(n)\n",
    "plt.plot(nodes, 'o')"
   ]
  }
 ],
 "metadata": {
  "kernelspec": {
   "display_name": "base",
   "language": "python",
   "name": "python3"
  },
  "language_info": {
   "codemirror_mode": {
    "name": "ipython",
    "version": 3
   },
   "file_extension": ".py",
   "mimetype": "text/x-python",
   "name": "python",
   "nbconvert_exporter": "python",
   "pygments_lexer": "ipython3",
   "version": "3.9.12"
  },
  "orig_nbformat": 4
 },
 "nbformat": 4,
 "nbformat_minor": 2
}
