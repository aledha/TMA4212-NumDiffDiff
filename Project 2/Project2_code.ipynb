{
 "cells": [
  {
   "cell_type": "code",
   "execution_count": 199,
   "metadata": {},
   "outputs": [],
   "source": [
    "%matplotlib inline\n",
    "import numpy as np\n",
    "import matplotlib.pyplot as plt\n",
    "from scipy import integrate\n",
    "newparams = {'figure.figsize': (8.0, 4.0), 'axes.grid': True,\n",
    "             'lines.markersize': 8, 'lines.linewidth': 2,\n",
    "             'font.size': 14}\n",
    "plt.rcParams.update(newparams)"
   ]
  },
  {
   "cell_type": "code",
   "execution_count": 200,
   "metadata": {},
   "outputs": [],
   "source": [
    "Xk = np.array([0, 0.1, 0.3, 0.4, 0.54, 0.6, 0.8, 0.95, 0.97, 1])  # Nodes, elements K(i) = (x(i-1), x(i))\n",
    "#Xk = np.linspace(0,1,50)\n",
    "Mi = len(Xk)                     # Number of nodes\n",
    "T = np.ndarray.transpose(np.array([Xk[:-1],Xk[1:]])) # Set of elements/triangulation\n",
    "H = Xk[1:]-Xk[:-1]               # Element sizes\n",
    "Mk = Mi-1                        # Number of elements"
   ]
  },
  {
   "cell_type": "code",
   "execution_count": 201,
   "metadata": {},
   "outputs": [
    {
     "name": "stdout",
     "output_type": "stream",
     "text": [
      "\n",
      "Nodes:  [0.   0.1  0.3  0.4  0.54 0.6  0.8  0.95 0.97 1.  ] \n",
      "\n",
      "Number of nodes: Mi =  10\n",
      "\n",
      "Collection of elements ('triangulation'):\n",
      "\n",
      " T = \n",
      "\n",
      " [[0.   0.1 ]\n",
      " [0.1  0.3 ]\n",
      " [0.3  0.4 ]\n",
      " [0.4  0.54]\n",
      " [0.54 0.6 ]\n",
      " [0.6  0.8 ]\n",
      " [0.8  0.95]\n",
      " [0.95 0.97]\n",
      " [0.97 1.  ]] \n",
      "\n",
      "Number of elements: Mk =  9 \n",
      "\n",
      "Element sizes: H =  [0.1  0.2  0.1  0.14 0.06 0.2  0.15 0.02 0.03]\n"
     ]
    }
   ],
   "source": [
    "print(\"\\nNodes: \",Xk,\"\\n\\nNumber of nodes: Mi = \", Mi)\n",
    "print(\"\\nCollection of elements ('triangulation'):\\n\\n T = \\n\\n\",T,\"\\n\\nNumber of elements: Mk = \", Mk,\"\\n\\nElement sizes: H = \",H)"
   ]
  },
  {
   "cell_type": "code",
   "execution_count": 202,
   "metadata": {},
   "outputs": [],
   "source": [
    "def loc2glob(k,alpha):\n",
    "    return k+alpha          # Numbering k from 0"
   ]
  },
  {
   "cell_type": "code",
   "execution_count": 203,
   "metadata": {},
   "outputs": [],
   "source": [
    "def func(x, consts):\n",
    "    alpha, b, c = consts\n",
    "    return 2 * alpha + b * (1 - 2*x) + c * (x - x**2)"
   ]
  },
  {
   "cell_type": "code",
   "execution_count": 204,
   "metadata": {},
   "outputs": [],
   "source": [
    "def elemental_stiffness_matrix(consts, h):\n",
    "    alpha, b, c = consts\n",
    "    return np.array([[alpha/h + b/2 + h*c/3, -alpha/h - b/2 + h*c/6],\n",
    "                    [-alpha/h + b/2 + h*c/6, alpha/h - b/2 + h*c/3]])\n",
    "\n",
    "def elemental_load(x1, x2, consts):\n",
    "    h = x2 - x1\n",
    "    f = np.zeros(2)\n",
    "    f[0] = integrate.quad(lambda x: func(x, consts) * (x2 - x) / h, x1, x2)[0]\n",
    "    f[1] = integrate.quad(lambda x: func(x, consts) * (x - x1) / h, x1, x2)[0]\n",
    "    return f"
   ]
  },
  {
   "cell_type": "code",
   "execution_count": 205,
   "metadata": {},
   "outputs": [
    {
     "data": {
      "text/plain": [
       "'for k in range(1,Mk):\\n    hi = H[k-1]\\n    hip1 = H[k]\\n    def f1(x):\\n        return func(x, consts) * (x - Xk[k-1]) / hi\\n    \\n    def f2(x):\\n        return func(x, consts) * (Xk[k+1] - x) / hip1\\n    \\n    xtest = np.linspace(Xk[k-1], Xk[k], 10)\\n    plt.plot(xtest, f1(xtest))\\n    xtest = np.linspace(Xk[k], Xk[k+1], 10)\\n    plt.plot(xtest, f2(xtest))\\n\\n    f[k] = (integrate.quad(f1, Xk[k-1], Xk[k])[0] + integrate.quad(f2, Xk[k], Xk[k+1])[0])\\n'"
      ]
     },
     "execution_count": 205,
     "metadata": {},
     "output_type": "execute_result"
    }
   ],
   "source": [
    "A = np.zeros((Mi,Mi))\n",
    "f = np.zeros((Mi))\n",
    "alpha,b,c = 2,1,5\n",
    "consts = [alpha, b, c]\n",
    "\n",
    "\n",
    "for k in range(0,Mk):\n",
    "    \"\"\"A[k, k-1] = (c * (hi / 6) + (b / 2) - (alpha / hi))\n",
    "    A[k, k] = c * (hi + hip1) / 3 + alpha * (1/hi + 1/hip1)\n",
    "    A[k, k+1] = ((c * hip1 / 6) + (b / 2) - (alpha / hip1))\n",
    "\"\"\"\n",
    "    #f1 = lambda x: func(x, consts) * (x - Xk[k-1]) / hi\n",
    "    #f2 = lambda x: func(x, consts) * (Xk[k+1] - x) / hip1\n",
    "\n",
    "    Ak = elemental_stiffness_matrix(consts, H[k])\n",
    "    fk = elemental_load(Xk[k], Xk[k+1], consts)\n",
    "    for gamma in range(2):\n",
    "        i = loc2glob(k,gamma)\n",
    "        for beta in range(2):\n",
    "            j = loc2glob(k,beta)\n",
    "            A[i,j] += Ak[gamma,beta]\n",
    "        f[i] += fk[gamma]\n",
    "\n",
    "\"\"\"for k in range(1,Mk):\n",
    "    hi = H[k-1]\n",
    "    hip1 = H[k]\n",
    "    def f1(x):\n",
    "        return func(x, consts) * (x - Xk[k-1]) / hi\n",
    "    \n",
    "    def f2(x):\n",
    "        return func(x, consts) * (Xk[k+1] - x) / hip1\n",
    "    \n",
    "    xtest = np.linspace(Xk[k-1], Xk[k], 10)\n",
    "    plt.plot(xtest, f1(xtest))\n",
    "    xtest = np.linspace(Xk[k], Xk[k+1], 10)\n",
    "    plt.plot(xtest, f2(xtest))\n",
    "\n",
    "    f[k] = (integrate.quad(f1, Xk[k-1], Xk[k])[0] + integrate.quad(f2, Xk[k], Xk[k+1])[0])\n",
    "\"\"\""
   ]
  },
  {
   "cell_type": "code",
   "execution_count": 206,
   "metadata": {},
   "outputs": [
    {
     "name": "stdout",
     "output_type": "stream",
     "text": [
      "A=\n",
      " [[   1.     0.     0.     0.     0.     0.     0.     0.     0.     0. ]\n",
      " [ -19.4   30.5  -10.3    0.     0.     0.     0.     0.     0.     0. ]\n",
      " [   0.    -9.3   30.5  -20.4    0.     0.     0.     0.     0.     0. ]\n",
      " [   0.     0.   -19.4   34.7  -14.7    0.     0.     0.     0.     0. ]\n",
      " [   0.     0.     0.   -13.7   48.   -33.8    0.     0.     0.     0. ]\n",
      " [   0.     0.     0.     0.   -32.8   43.8  -10.3    0.     0.     0. ]\n",
      " [   0.     0.     0.     0.     0.    -9.3   23.9  -13.7    0.     0. ]\n",
      " [   0.     0.     0.     0.     0.     0.   -12.7  113.6 -100.5    0. ]\n",
      " [   0.     0.     0.     0.     0.     0.     0.   -99.5  166.7  -67.1]\n",
      " [   0.     0.     0.     0.     0.     0.     0.     0.     0.     1. ]] \n",
      "\n",
      " f= [0.    0.794 0.814 0.645 0.521 0.628 0.745 0.306 0.08  0.   ]\n"
     ]
    }
   ],
   "source": [
    "# Impose boundary condition\n",
    "# Dirichlet boundary conditions\n",
    "A[0,:] = 0;\n",
    "A[0,0] = 1\n",
    "f[0] = 0\n",
    "A[-1,:] = 0\n",
    "A[-1,-1] = 1\n",
    "f[-1] = 0\n",
    "print(\"A=\\n\", np.around(A,decimals=1, out=None),\"\\n\\n\",\"f=\", np.around(f,decimals=3, out=None))"
   ]
  },
  {
   "cell_type": "code",
   "execution_count": 207,
   "metadata": {},
   "outputs": [],
   "source": [
    "U = np.linalg.solve(A,f)"
   ]
  },
  {
   "cell_type": "code",
   "execution_count": 208,
   "metadata": {},
   "outputs": [
    {
     "data": {
      "image/png": "[encoded data removed]",
      "text/plain": [
       "<Figure size 576x288 with 1 Axes>"
      ]
     },
     "metadata": {
      "needs_background": "light"
     },
     "output_type": "display_data"
    }
   ],
   "source": [
    "plt.plot(Xk, U, Xk, Xk * (1-Xk), 'o')\n",
    "plt.legend(['Numerical','Exact'])\n",
    "plt.xlabel('x');"
   ]
  },
  {
   "cell_type": "code",
   "execution_count": 209,
   "metadata": {},
   "outputs": [],
   "source": [
    "def func2(x, consts):\n",
    "    alpha, b, c = consts\n",
    "    return 9 * np.pi**2 * alpha * np.sin(3*np.pi*x) + 3 * np.pi * b * np.cos(3*np.pi*x) + c* np.sin(3*np.pi * x)"
   ]
  },
  {
   "cell_type": "code",
   "execution_count": 210,
   "metadata": {},
   "outputs": [],
   "source": [
    "A2 = np.zeros((Mi,Mi))\n",
    "f = np.zeros((Mi))\n",
    "alpha,b,c = 2,1,1\n",
    "consts = [alpha, b, c]\n",
    "for k in range(1,Mk):\n",
    "    hi = H[k-1]\n",
    "    hip1 = H[k]\n",
    "    A2[k, k-1] = c * (hi / 6) + (b / 2) - (alpha / hi)\n",
    "    A2[k, k] = c * (hi + hip1) / 3 + alpha * (1/hi + 1/hip1)\n",
    "    A2[k, k+1] = (c * hip1 / 6) + (b / 2) - (alpha / hip1)\n",
    "\n",
    "    #f1 = lambda x: func(x, consts) * (x - Xk[k-1]) / hi\n",
    "    #f2 = lambda x: func(x, consts) * (Xk[k+1] - x) / hip1\n",
    " \n",
    "    def f1(x):\n",
    "        return func2(x, consts) * (x - Xk[k-1]) / hi\n",
    "    \n",
    "    def f2(x):\n",
    "        return func2(x, consts) * (Xk[k+1] - x) / hip1\n",
    "    \"\"\"xtest = np.linspace(Xk[k-1], Xk[k], 10)\n",
    "    plt.plot(xtest, f1(xtest))\n",
    "    xtest = np.linspace(Xk[k], Xk[k+1], 10)\n",
    "    plt.plot(xtest, f2(xtest))\"\"\"\n",
    "\n",
    "    f[k] = (integrate.quad(f1, Xk[k-1], Xk[k])[0] + integrate.quad(f2, Xk[k], Xk[k+1])[0])\n",
    "    \n",
    "xtest = np.linspace(0,1,50)\n",
    "#plt.plot(xtest, func(xtest, consts))"
   ]
  },
  {
   "cell_type": "code",
   "execution_count": 211,
   "metadata": {},
   "outputs": [
    {
     "name": "stdout",
     "output_type": "stream",
     "text": [
      "A=\n",
      " [[  1.    0.    0.    0.    0.    0.    0.    0.    0.    0. ]\n",
      " [-19.5  30.1  -9.5   0.    0.    0.    0.    0.    0.    0. ]\n",
      " [  0.   -9.5  30.1 -19.5   0.    0.    0.    0.    0.    0. ]\n",
      " [  0.    0.  -19.5  34.4 -13.8   0.    0.    0.    0.    0. ]\n",
      " [  0.    0.    0.  -13.8  47.7 -32.8   0.    0.    0.    0. ]\n",
      " [  0.    0.    0.    0.  -32.8  43.4  -9.5   0.    0.    0. ]\n",
      " [  0.    0.    0.    0.    0.   -9.5  23.5 -12.8   0.    0. ]\n",
      " [  0.    0.    0.    0.    0.    0.  -12.8 113.4 -99.5   0. ]\n",
      " [  0.    0.    0.    0.    0.    0.    0.  -99.5 166.7 -66.2]\n",
      " [  0.    0.    0.    0.    0.    0.    0.    0.    0.    1. ]] \n",
      "\n",
      " f= [  0.     21.679  12.042 -13.865 -16.265  -2.966  22.723  10.452   0.879\n",
      "   0.   ]\n"
     ]
    }
   ],
   "source": [
    "# Impose boundary condition\n",
    "# Dirichlet boundary conditions\n",
    "A2[0,:] = 0;\n",
    "A2[0,0] = 1\n",
    "f[0] = 0\n",
    "A2[-1,:] = 0\n",
    "A2[-1,-1] = 1\n",
    "f[-1] = 0\n",
    "print(\"A=\\n\", np.around(A2,decimals=1, out=None),\"\\n\\n\",\"f=\", np.around(f,decimals=3, out=None))"
   ]
  },
  {
   "cell_type": "code",
   "execution_count": 212,
   "metadata": {},
   "outputs": [
    {
     "name": "stdout",
     "output_type": "stream",
     "text": [
      "[[ 0.          0.          0.          0.          0.          0.\n",
      "   0.          0.          0.          0.        ]\n",
      " [ 0.06666667  0.4        -0.86666667  0.          0.          0.\n",
      "   0.          0.          0.          0.        ]\n",
      " [ 0.          0.13333333  0.4        -0.93333333  0.          0.\n",
      "   0.          0.          0.          0.        ]\n",
      " [ 0.          0.          0.06666667  0.32       -0.90666667  0.\n",
      "   0.          0.          0.          0.        ]\n",
      " [ 0.          0.          0.          0.09333333  0.26666667 -0.96\n",
      "   0.          0.          0.          0.        ]\n",
      " [ 0.          0.          0.          0.          0.04        0.34666667\n",
      "  -0.86666667  0.          0.          0.        ]\n",
      " [ 0.          0.          0.          0.          0.          0.13333333\n",
      "   0.46666667 -0.9         0.          0.        ]\n",
      " [ 0.          0.          0.          0.          0.          0.\n",
      "   0.1         0.22666667 -0.98666667  0.        ]\n",
      " [ 0.          0.          0.          0.          0.          0.\n",
      "   0.          0.01333333  0.06666667 -0.98      ]\n",
      " [ 0.          0.          0.          0.          0.          0.\n",
      "   0.          0.          0.          0.        ]]\n"
     ]
    }
   ],
   "source": [
    "print(A-A2)"
   ]
  },
  {
   "cell_type": "code",
   "execution_count": 213,
   "metadata": {},
   "outputs": [
    {
     "data": {
      "image/png": "[encoded data removed]",
      "text/plain": [
       "<Figure size 576x288 with 1 Axes>"
      ]
     },
     "metadata": {
      "needs_background": "light"
     },
     "output_type": "display_data"
    }
   ],
   "source": [
    "U = np.linalg.solve(A,f)\n",
    "plt.plot(Xk, U, Xk, np.sin(3*np.pi*Xk), 'o')\n",
    "plt.legend(['Numerical','Exact'])\n",
    "plt.xlabel('x');"
   ]
  },
  {
   "cell_type": "code",
   "execution_count": 214,
   "metadata": {},
   "outputs": [
    {
     "data": {
      "image/png": "[encoded data removed]",
      "text/plain": [
       "<Figure size 576x288 with 1 Axes>"
      ]
     },
     "metadata": {
      "needs_background": "light"
     },
     "output_type": "display_data"
    }
   ],
   "source": [
    "# Define the differential equation and its coefficients\n",
    "\n",
    "alpha,b,c = 2/3,4/3,-2/3\n",
    "\n",
    "consts = [alpha, b, c]\n",
    "# Define the element stiffness matrix\n",
    "def ke(x1, x2):\n",
    "    h = x2 - x1\n",
    "    k = np.zeros((2, 2))\n",
    "    k[0, 0] = alpha / h + b * h / 3 + c * h / 6\n",
    "    k[0, 1] = -alpha / h + b * h / 6 - c * h / 6\n",
    "    k[1, 0] = -alpha / h + b * h / 6 - c * h / 6\n",
    "    k[1, 1] = alpha / h + b * h / 3 + c * h / 6\n",
    "    return k\n",
    "\n",
    "# Define the element load vector\n",
    "def fe(x1, x2):\n",
    "    h = x2 - x1\n",
    "    f = np.zeros(2)\n",
    "    f[0] = integrate.quad(lambda x: func(x, consts) * (x - x1) / h, x1, x2)[0]\n",
    "    f[1] = integrate.quad(lambda x: func(x, consts) * (x2 - x) / h, x1, x2)[0]\n",
    "    return f\n",
    "\n",
    "# Define the global stiffness matrix and load vector\n",
    "n = 50 # Number of elements\n",
    "\n",
    "x = np.linspace(0, 1, n+1) # Node locations\n",
    "k_global = np.zeros((n+1, n+1))\n",
    "f_global = np.zeros(n+1)\n",
    "for i in range(n):\n",
    "    k_global[i:i+2, i:i+2] += ke(x[i], x[i+1])\n",
    "    f_global[i:i+2] += fe(x[i], x[i+1])\n",
    "\n",
    "# Apply Dirichlet boundary conditions\n",
    "k_global[0,:] = 0\n",
    "k_global[0,0] = 1\n",
    "f_global[0] = 0\n",
    "k_global[-1,:] = 0\n",
    "k_global[-1,-1] = 1\n",
    "f_global[-1] = 0\n",
    "\n",
    "# Solve the linear system\n",
    "u = np.linalg.solve(k_global, f_global)\n",
    "\n",
    "# Plot the solution\n",
    "plt.plot(x, u)\n",
    "plt.plot(x, x-x**2)\n",
    "plt.xlabel('x')\n",
    "plt.ylabel('u(x)')\n",
    "plt.show()"
   ]
  },
  {
   "cell_type": "code",
   "execution_count": null,
   "metadata": {},
   "outputs": [],
   "source": []
  }
 ],
 "metadata": {
  "kernelspec": {
   "display_name": "base",
   "language": "python",
   "name": "python3"
  },
  "language_info": {
   "codemirror_mode": {
    "name": "ipython",
    "version": 3
   },
   "file_extension": ".py",
   "mimetype": "text/x-python",
   "name": "python",
   "nbconvert_exporter": "python",
   "pygments_lexer": "ipython3",
   "version": "3.8.3"
  },
  "orig_nbformat": 4
 },
 "nbformat": 4,
 "nbformat_minor": 2
}
