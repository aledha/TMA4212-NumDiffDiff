{
 "cells": [
  {
   "cell_type": "code",
   "execution_count": 1,
   "metadata": {},
   "outputs": [],
   "source": [
    "%matplotlib inline\n",
    "import numpy as np\n",
    "import matplotlib.pyplot as plt\n",
    "from scipy import integrate\n",
    "newparams = {'figure.figsize': (8.0, 4.0), 'axes.grid': True,\n",
    "             'lines.markersize': 8, 'lines.linewidth': 2,\n",
    "             'font.size': 14}\n",
    "plt.rcParams.update(newparams)"
   ]
  },
  {
   "cell_type": "code",
   "execution_count": 2,
   "metadata": {},
   "outputs": [],
   "source": [
    "#Xk = np.array([0, 0.1, 0.3, 0.4, 0.54, 0.6, 0.8, 0.95, 0.97, 1])  # Nodes, elements K(i) = (x(i-1), x(i))\n",
    "Xk = np.linspace(0,1,50)\n",
    "Mi = len(Xk)                     # Number of nodes\n",
    "T = np.ndarray.transpose(np.array([Xk[:-1],Xk[1:]])) # Set of elements/triangulation\n",
    "H = Xk[1:]-Xk[:-1]               # Element sizes\n",
    "Mk = Mi-1                        # Number of elements"
   ]
  },
  {
   "cell_type": "code",
   "execution_count": 3,
   "metadata": {},
   "outputs": [
    {
     "name": "stdout",
     "output_type": "stream",
     "text": [
      "\n",
      "Nodes:  [0.         0.02040816 0.04081633 0.06122449 0.08163265 0.10204082\n",
      " 0.12244898 0.14285714 0.16326531 0.18367347 0.20408163 0.2244898\n",
      " 0.24489796 0.26530612 0.28571429 0.30612245 0.32653061 0.34693878\n",
      " 0.36734694 0.3877551  0.40816327 0.42857143 0.44897959 0.46938776\n",
      " 0.48979592 0.51020408 0.53061224 0.55102041 0.57142857 0.59183673\n",
      " 0.6122449  0.63265306 0.65306122 0.67346939 0.69387755 0.71428571\n",
      " 0.73469388 0.75510204 0.7755102  0.79591837 0.81632653 0.83673469\n",
      " 0.85714286 0.87755102 0.89795918 0.91836735 0.93877551 0.95918367\n",
      " 0.97959184 1.        ] \n",
      "\n",
      "Number of nodes: Mi =  50\n",
      "\n",
      "Collection of elements ('triangulation'):\n",
      "\n",
      " T = \n",
      "\n",
      " [[0.         0.02040816]\n",
      " [0.02040816 0.04081633]\n",
      " [0.04081633 0.06122449]\n",
      " [0.06122449 0.08163265]\n",
      " [0.08163265 0.10204082]\n",
      " [0.10204082 0.12244898]\n",
      " [0.12244898 0.14285714]\n",
      " [0.14285714 0.16326531]\n",
      " [0.16326531 0.18367347]\n",
      " [0.18367347 0.20408163]\n",
      " [0.20408163 0.2244898 ]\n",
      " [0.2244898  0.24489796]\n",
      " [0.24489796 0.26530612]\n",
      " [0.26530612 0.28571429]\n",
      " [0.28571429 0.30612245]\n",
      " [0.30612245 0.32653061]\n",
      " [0.32653061 0.34693878]\n",
      " [0.34693878 0.36734694]\n",
      " [0.36734694 0.3877551 ]\n",
      " [0.3877551  0.40816327]\n",
      " [0.40816327 0.42857143]\n",
      " [0.42857143 0.44897959]\n",
      " [0.44897959 0.46938776]\n",
      " [0.46938776 0.48979592]\n",
      " [0.48979592 0.51020408]\n",
      " [0.51020408 0.53061224]\n",
      " [0.53061224 0.55102041]\n",
      " [0.55102041 0.57142857]\n",
      " [0.57142857 0.59183673]\n",
      " [0.59183673 0.6122449 ]\n",
      " [0.6122449  0.63265306]\n",
      " [0.63265306 0.65306122]\n",
      " [0.65306122 0.67346939]\n",
      " [0.67346939 0.69387755]\n",
      " [0.69387755 0.71428571]\n",
      " [0.71428571 0.73469388]\n",
      " [0.73469388 0.75510204]\n",
      " [0.75510204 0.7755102 ]\n",
      " [0.7755102  0.79591837]\n",
      " [0.79591837 0.81632653]\n",
      " [0.81632653 0.83673469]\n",
      " [0.83673469 0.85714286]\n",
      " [0.85714286 0.87755102]\n",
      " [0.87755102 0.89795918]\n",
      " [0.89795918 0.91836735]\n",
      " [0.91836735 0.93877551]\n",
      " [0.93877551 0.95918367]\n",
      " [0.95918367 0.97959184]\n",
      " [0.97959184 1.        ]] \n",
      "\n",
      "Number of elements: Mk =  49 \n",
      "\n",
      "Element sizes: H =  [0.02040816 0.02040816 0.02040816 0.02040816 0.02040816 0.02040816\n",
      " 0.02040816 0.02040816 0.02040816 0.02040816 0.02040816 0.02040816\n",
      " 0.02040816 0.02040816 0.02040816 0.02040816 0.02040816 0.02040816\n",
      " 0.02040816 0.02040816 0.02040816 0.02040816 0.02040816 0.02040816\n",
      " 0.02040816 0.02040816 0.02040816 0.02040816 0.02040816 0.02040816\n",
      " 0.02040816 0.02040816 0.02040816 0.02040816 0.02040816 0.02040816\n",
      " 0.02040816 0.02040816 0.02040816 0.02040816 0.02040816 0.02040816\n",
      " 0.02040816 0.02040816 0.02040816 0.02040816 0.02040816 0.02040816\n",
      " 0.02040816]\n"
     ]
    }
   ],
   "source": [
    "print(\"\\nNodes: \",Xk,\"\\n\\nNumber of nodes: Mi = \", Mi)\n",
    "print(\"\\nCollection of elements ('triangulation'):\\n\\n T = \\n\\n\",T,\"\\n\\nNumber of elements: Mk = \", Mk,\"\\n\\nElement sizes: H = \",H)"
   ]
  },
  {
   "cell_type": "code",
   "execution_count": 4,
   "metadata": {},
   "outputs": [],
   "source": [
    "def loc2glob(k,alpha):\n",
    "    return k+alpha          # Numbering k from 0"
   ]
  },
  {
   "cell_type": "code",
   "execution_count": 113,
   "metadata": {},
   "outputs": [],
   "source": [
    "def func(x, consts):\n",
    "    alpha, b, c = consts\n",
    "    return 2 * alpha + b * (1 - 2*x) + c * (x - x**2)"
   ]
  },
  {
   "cell_type": "code",
   "execution_count": 174,
   "metadata": {},
   "outputs": [],
   "source": [
    "def elemental_stiffness_matrix(consts, h):\n",
    "    alpha, b, c = consts\n",
    "    return np.array([[alpha/h + b/2 + h*c/3, -alpha/h - b/2 + h*c/6],\n",
    "                    [-alpha/h + b/2 + h*c/6, alpha/h - b/2 + h*c/3]])\n",
    "\n",
    "def elemental_load(x1, x2, consts):\n",
    "    h = x2 - x1\n",
    "    f = np.zeros(2)\n",
    "    f[0] = integrate.quad(lambda x: func(x, consts) * (x2 - x) / h, x1, x2)[0]\n",
    "    f[1] = integrate.quad(lambda x: func(x, consts) * (x - x1) / h, x1, x2)[0]\n",
    "    return f"
   ]
  },
  {
   "cell_type": "code",
   "execution_count": 195,
   "metadata": {},
   "outputs": [
    {
     "data": {
      "text/plain": [
       "'for k in range(1,Mk):\\n    hi = H[k-1]\\n    hip1 = H[k]\\n    def f1(x):\\n        return func(x, consts) * (x - Xk[k-1]) / hi\\n    \\n    def f2(x):\\n        return func(x, consts) * (Xk[k+1] - x) / hip1\\n    \\n    xtest = np.linspace(Xk[k-1], Xk[k], 10)\\n    plt.plot(xtest, f1(xtest))\\n    xtest = np.linspace(Xk[k], Xk[k+1], 10)\\n    plt.plot(xtest, f2(xtest))\\n\\n    f[k] = (integrate.quad(f1, Xk[k-1], Xk[k])[0] + integrate.quad(f2, Xk[k], Xk[k+1])[0])\\n'"
      ]
     },
     "execution_count": 195,
     "metadata": {},
     "output_type": "execute_result"
    }
   ],
   "source": [
    "A = np.zeros((Mi,Mi))\n",
    "f = np.zeros((Mi))\n",
    "alpha,b,c = 2,1,5\n",
    "consts = [alpha, b, c]\n",
    "\n",
    "\n",
    "for k in range(0,Mk):\n",
    "    \"\"\"A[k, k-1] = (c * (hi / 6) + (b / 2) - (alpha / hi))\n",
    "    A[k, k] = c * (hi + hip1) / 3 + alpha * (1/hi + 1/hip1)\n",
    "    A[k, k+1] = ((c * hip1 / 6) + (b / 2) - (alpha / hip1))\n",
    "\"\"\"\n",
    "    #f1 = lambda x: func(x, consts) * (x - Xk[k-1]) / hi\n",
    "    #f2 = lambda x: func(x, consts) * (Xk[k+1] - x) / hip1\n",
    "\n",
    "    Ak = elemental_stiffness_matrix(consts, H[k])\n",
    "    fk = elemental_load(Xk[k], Xk[k+1], consts)\n",
    "    for gamma in range(2):\n",
    "        i = loc2glob(k,gamma)\n",
    "        for beta in range(2):\n",
    "            j = loc2glob(k,beta)\n",
    "            A[i,j] += Ak[gamma,beta]\n",
    "        f[i] += fk[gamma]\n",
    "\n",
    "\"\"\"for k in range(1,Mk):\n",
    "    hi = H[k-1]\n",
    "    hip1 = H[k]\n",
    "    def f1(x):\n",
    "        return func(x, consts) * (x - Xk[k-1]) / hi\n",
    "    \n",
    "    def f2(x):\n",
    "        return func(x, consts) * (Xk[k+1] - x) / hip1\n",
    "    \n",
    "    xtest = np.linspace(Xk[k-1], Xk[k], 10)\n",
    "    plt.plot(xtest, f1(xtest))\n",
    "    xtest = np.linspace(Xk[k], Xk[k+1], 10)\n",
    "    plt.plot(xtest, f2(xtest))\n",
    "\n",
    "    f[k] = (integrate.quad(f1, Xk[k-1], Xk[k])[0] + integrate.quad(f2, Xk[k], Xk[k+1])[0])\n",
    "\"\"\""
   ]
  },
  {
   "cell_type": "code",
   "execution_count": 196,
   "metadata": {},
   "outputs": [
    {
     "name": "stdout",
     "output_type": "stream",
     "text": [
      "A=\n",
      " [[  1.    0.    0.  ...   0.    0.    0. ]\n",
      " [-97.5 196.1 -98.5 ...   0.    0.    0. ]\n",
      " [  0.  -97.5 196.1 ...   0.    0.    0. ]\n",
      " ...\n",
      " [  0.    0.    0.  ... 196.1 -98.5   0. ]\n",
      " [  0.    0.    0.  ... -97.5 196.1 -98.5]\n",
      " [  0.    0.    0.  ...   0.    0.    1. ]] \n",
      "\n",
      " f= [0.    0.103 0.104 0.105 0.106 0.107 0.108 0.109 0.109 0.11  0.11  0.111\n",
      " 0.111 0.111 0.111 0.111 0.111 0.111 0.111 0.11  0.11  0.11  0.109 0.108\n",
      " 0.108 0.107 0.106 0.105 0.104 0.103 0.101 0.1   0.098 0.097 0.095 0.094\n",
      " 0.092 0.09  0.088 0.086 0.084 0.082 0.08  0.077 0.075 0.072 0.07  0.067\n",
      " 0.064 0.   ]\n"
     ]
    }
   ],
   "source": [
    "# Impose boundary condition\n",
    "# Dirichlet boundary conditions\n",
    "A[0,:] = 0;\n",
    "A[0,0] = 1\n",
    "f[0] = 0\n",
    "A[-1,:] = 0\n",
    "A[-1,-1] = 1\n",
    "f[-1] = 0\n",
    "print(\"A=\\n\", np.around(A,decimals=1, out=None),\"\\n\\n\",\"f=\", np.around(f,decimals=3, out=None))"
   ]
  },
  {
   "cell_type": "code",
   "execution_count": 197,
   "metadata": {},
   "outputs": [],
   "source": [
    "U = np.linalg.solve(A,f)"
   ]
  },
  {
   "cell_type": "code",
   "execution_count": 198,
   "metadata": {},
   "outputs": [
    {
     "data": {
      "image/png": "[encoded data removed]",
      "text/plain": [
       "<Figure size 576x288 with 1 Axes>"
      ]
     },
     "metadata": {
      "needs_background": "light"
     },
     "output_type": "display_data"
    }
   ],
   "source": [
    "plt.plot(Xk, U, Xk, Xk * (1-Xk), 'o')\n",
    "plt.legend(['Numerical','Exact'])\n",
    "plt.xlabel('x');"
   ]
  },
  {
   "cell_type": "code",
   "execution_count": 11,
   "metadata": {},
   "outputs": [],
   "source": [
    "def func2(x, consts):\n",
    "    alpha, b, c = consts\n",
    "    return 9 * np.pi**2 * alpha * np.sin(3*np.pi*x) + 3 * np.pi * b * np.cos(3*np.pi*x) + c* np.sin(3*np.pi * x)"
   ]
  },
  {
   "cell_type": "code",
   "execution_count": 12,
   "metadata": {},
   "outputs": [],
   "source": [
    "A2 = np.zeros((Mi,Mi))\n",
    "f = np.zeros((Mi))\n",
    "alpha,b,c = 2,1,1\n",
    "consts = [alpha, b, c]\n",
    "for k in range(1,Mk):\n",
    "    hi = H[k-1]\n",
    "    hip1 = H[k]\n",
    "    A2[k, k-1] = c * (hi / 6) + (b / 2) - (alpha / hi)\n",
    "    A2[k, k] = c * (hi + hip1) / 3 + alpha * (1/hi + 1/hip1)\n",
    "    A2[k, k+1] = (c * hip1 / 6) + (b / 2) - (alpha / hip1)\n",
    "\n",
    "    #f1 = lambda x: func(x, consts) * (x - Xk[k-1]) / hi\n",
    "    #f2 = lambda x: func(x, consts) * (Xk[k+1] - x) / hip1\n",
    " \n",
    "    def f1(x):\n",
    "        return func2(x, consts) * (x - Xk[k-1]) / hi\n",
    "    \n",
    "    def f2(x):\n",
    "        return func2(x, consts) * (Xk[k+1] - x) / hip1\n",
    "    \"\"\"xtest = np.linspace(Xk[k-1], Xk[k], 10)\n",
    "    plt.plot(xtest, f1(xtest))\n",
    "    xtest = np.linspace(Xk[k], Xk[k+1], 10)\n",
    "    plt.plot(xtest, f2(xtest))\"\"\"\n",
    "\n",
    "    f[k] = (integrate.quad(f1, Xk[k-1], Xk[k])[0] + integrate.quad(f2, Xk[k], Xk[k+1])[0])\n",
    "    \n",
    "xtest = np.linspace(0,1,50)\n",
    "#plt.plot(xtest, func(xtest, consts))"
   ]
  },
  {
   "cell_type": "code",
   "execution_count": 13,
   "metadata": {},
   "outputs": [
    {
     "name": "stdout",
     "output_type": "stream",
     "text": [
      "A=\n",
      " [[  1.    0.    0.  ...   0.    0.    0. ]\n",
      " [-97.5 196.  -97.5 ...   0.    0.    0. ]\n",
      " [  0.  -97.5 196.  ...   0.    0.    0. ]\n",
      " ...\n",
      " [  0.    0.    0.  ... 196.  -97.5   0. ]\n",
      " [  0.    0.    0.  ... -97.5 196.  -97.5]\n",
      " [  0.    0.    0.  ...   0.    0.    1. ]] \n",
      "\n",
      " f= [ 0.     0.883  1.542  2.144  2.666  3.091  3.401  3.586  3.639  3.558\n",
      "  3.345  3.009  2.562  2.02   1.404  0.736  0.042 -0.655 -1.327 -1.951\n",
      " -2.502 -2.961 -3.311 -3.539 -3.636 -3.6   -3.43  -3.134 -2.722 -2.21\n",
      " -1.617 -0.963 -0.275  0.424  1.107  1.75   2.328  2.82   3.208  3.477\n",
      "  3.619  3.627  3.501  3.246  2.871  2.391  1.822  1.186  0.507  0.   ]\n"
     ]
    }
   ],
   "source": [
    "# Impose boundary condition\n",
    "# Dirichlet boundary conditions\n",
    "A2[0,:] = 0;\n",
    "A2[0,0] = 1\n",
    "f[0] = 0\n",
    "A2[-1,:] = 0\n",
    "A2[-1,-1] = 1\n",
    "f[-1] = 0\n",
    "print(\"A=\\n\", np.around(A2,decimals=1, out=None),\"\\n\\n\",\"f=\", np.around(f,decimals=3, out=None))"
   ]
  },
  {
   "cell_type": "code",
   "execution_count": 14,
   "metadata": {},
   "outputs": [
    {
     "name": "stdout",
     "output_type": "stream",
     "text": [
      "[[  0.   0.   0. ...   0.   0.   0.]\n",
      " [ 48. -97.  48. ...   0.   0.   0.]\n",
      " [  0.  48. -97. ...   0.   0.   0.]\n",
      " ...\n",
      " [  0.   0.   0. ... -97.  48.   0.]\n",
      " [  0.   0.   0. ...  48. -97.  48.]\n",
      " [  0.   0.   0. ...   0.   0.   0.]]\n"
     ]
    }
   ],
   "source": [
    "print(A-A2)"
   ]
  },
  {
   "cell_type": "code",
   "execution_count": 15,
   "metadata": {},
   "outputs": [
    {
     "data": {
      "image/png": "[encoded data removed]",
      "text/plain": [
       "<Figure size 576x288 with 1 Axes>"
      ]
     },
     "metadata": {
      "needs_background": "light"
     },
     "output_type": "display_data"
    }
   ],
   "source": [
    "U = np.linalg.solve(A,f)\n",
    "plt.plot(Xk, U, Xk, np.sin(3*np.pi*Xk), 'o')\n",
    "plt.legend(['Numerical','Exact'])\n",
    "plt.xlabel('x');"
   ]
  },
  {
   "cell_type": "code",
   "execution_count": 18,
   "metadata": {},
   "outputs": [
    {
     "data": {
      "image/png": "[encoded data removed]",
      "text/plain": [
       "<Figure size 576x288 with 1 Axes>"
      ]
     },
     "metadata": {
      "needs_background": "light"
     },
     "output_type": "display_data"
    }
   ],
   "source": [
    "# Define the differential equation and its coefficients\n",
    "\n",
    "alpha,b,c = 2/3,4/3,-2/3\n",
    "\n",
    "consts = [alpha, b, c]\n",
    "# Define the element stiffness matrix\n",
    "def ke(x1, x2):\n",
    "    h = x2 - x1\n",
    "    k = np.zeros((2, 2))\n",
    "    k[0, 0] = alpha / h + b * h / 3 + c * h / 6\n",
    "    k[0, 1] = -alpha / h + b * h / 6 - c * h / 6\n",
    "    k[1, 0] = -alpha / h + b * h / 6 - c * h / 6\n",
    "    k[1, 1] = alpha / h + b * h / 3 + c * h / 6\n",
    "    return k\n",
    "\n",
    "# Define the element load vector\n",
    "def fe(x1, x2):\n",
    "    h = x2 - x1\n",
    "    f = np.zeros(2)\n",
    "    f[0] = integrate.quad(lambda x: func(x, consts) * (x - x1) / h, x1, x2)[0]\n",
    "    f[1] = integrate.quad(lambda x: func(x, consts) * (x2 - x) / h, x1, x2)[0]\n",
    "    return f\n",
    "\n",
    "# Define the global stiffness matrix and load vector\n",
    "n = 50 # Number of elements\n",
    "\n",
    "x = np.linspace(0, 1, n+1) # Node locations\n",
    "k_global = np.zeros((n+1, n+1))\n",
    "f_global = np.zeros(n+1)\n",
    "for i in range(n):\n",
    "    k_global[i:i+2, i:i+2] += ke(x[i], x[i+1])\n",
    "    f_global[i:i+2] += fe(x[i], x[i+1])\n",
    "\n",
    "# Apply Dirichlet boundary conditions\n",
    "k_global[0,:] = 0\n",
    "k_global[0,0] = 1\n",
    "f_global[0] = 0\n",
    "k_global[-1,:] = 0\n",
    "k_global[-1,-1] = 1\n",
    "f_global[-1] = 0\n",
    "\n",
    "# Solve the linear system\n",
    "u = np.linalg.solve(k_global, f_global)\n",
    "\n",
    "# Plot the solution\n",
    "plt.plot(x, u)\n",
    "plt.plot(x, x-x**2)\n",
    "plt.xlabel('x')\n",
    "plt.ylabel('u(x)')\n",
    "plt.show()"
   ]
  },
  {
   "cell_type": "code",
   "execution_count": null,
   "metadata": {},
   "outputs": [],
   "source": []
  }
 ],
 "metadata": {
  "kernelspec": {
   "display_name": "base",
   "language": "python",
   "name": "python3"
  },
  "language_info": {
   "codemirror_mode": {
    "name": "ipython",
    "version": 3
   },
   "file_extension": ".py",
   "mimetype": "text/x-python",
   "name": "python",
   "nbconvert_exporter": "python",
   "pygments_lexer": "ipython3",
   "version": "3.8.3"
  },
  "orig_nbformat": 4
 },
 "nbformat": 4,
 "nbformat_minor": 2
}
