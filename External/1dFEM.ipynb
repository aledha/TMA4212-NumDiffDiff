{
 "cells": [
  {
   "cell_type": "markdown",
   "metadata": {},
   "source": [
    "### Implementation of $\\mathbb P_1$ FEM in 1D"
   ]
  },
  {
   "attachments": {},
   "cell_type": "markdown",
   "metadata": {},
   "source": [
    "We want to solve \n",
    "$$\n",
    "   -u_{xx} = f(x) \\quad\\text{ on }\\quad (0,1), \\qquad u(0)=u(1)=0\n",
    "$$\n",
    "with $f=1$ in this simple example.\n",
    "\n",
    "For a subdivision $\\mathcal T_h=\\{K_i\\}_{i=1}^M$ of $\\Omega=(0,1)$, define\n",
    "\n",
    "$$\n",
    "X_h^1 = \\{v\\in C^{0}[0,1]\\;|\\; v|_{K} \\in \\mathbb{P}_1 \\ \\forall K\\in\\mathcal T_h\\}\\qquad \\text{and}\\qquad V_h = \\{v\\in X_h^1: v(0)=0=v(1)\\}.\n",
    "$$\n",
    "\n",
    "The Galerkin $\\mathbb P_1$ FEM is then given by: \n",
    "\n",
    "$\\qquad$ Find $u_h\\in V_h$ such that $\\qquad a(u_h,v) := \\int_0^1 u_h' v'\\, dx = \\int_0^1 fv\\, dx := F(v) \\qquad \\forall v\\in V_h.$\n",
    "\n",
    "Using the hat-function basis, $X_h^1=\\text{span}\\{\\phi_0,\\dots,\\phi_M\\}$, $u_h(x)=\\sum_{i=0}^M U_i \\phi_i(x)$, and the FEM becomes a linear system:\n",
    "\n",
    "$$A \\vec U = \\vec F$$\n",
    "\n",
    "where\n",
    "$$A_{ij}=a(\\phi_j,\\phi_i),\\qquad \\vec U = [U_0 , \\dots, U_M],\\qquad \\vec F = [ F(\\phi_0), \\dots, F(\\phi_M) ]$$\n",
    "\n",
    "#### Implementation\n",
    "\n",
    "Initialise python libraries, set plotting parameters"
   ]
  },
  {
   "cell_type": "code",
   "execution_count": 13,
   "metadata": {},
   "outputs": [],
   "source": [
    "%matplotlib inline\n",
    "import numpy as np\n",
    "import matplotlib.pyplot as plt\n",
    "from scipy import integrate\n",
    "newparams = {'figure.figsize': (8.0, 4.0), 'axes.grid': True,\n",
    "             'lines.markersize': 8, 'lines.linewidth': 2,\n",
    "             'font.size': 14}\n",
    "plt.rcParams.update(newparams)"
   ]
  },
  {
   "cell_type": "markdown",
   "metadata": {},
   "source": [
    "Set ut the subdivision ('triangulation') of space: Choose nodes $x_i$ and elements $K_k=(x_{k-1},x_{k})$. "
   ]
  },
  {
   "cell_type": "code",
   "execution_count": 14,
   "metadata": {},
   "outputs": [],
   "source": [
    "Xk = np.array([0, 0.1, 0.3, 0.6, 0.8, 0.9, 0.95, 0.97, 1])  # Nodes, elements K(i) = (x(i-1), x(i))\n",
    "Mi = len(Xk)                     # Number of nodes\n",
    "T = np.ndarray.transpose(np.array([Xk[:-1],Xk[1:]])) # Set of elements/triangulation\n",
    "H = Xk[1:]-Xk[:-1]               # Element sizes\n",
    "Mk = Mi-1                        # Number of elements"
   ]
  },
  {
   "cell_type": "code",
   "execution_count": 15,
   "metadata": {},
   "outputs": [
    {
     "name": "stdout",
     "output_type": "stream",
     "text": [
      "\n",
      "Nodes:  [0.   0.1  0.3  0.6  0.8  0.9  0.95 0.97 1.  ] \n",
      "\n",
      "Number of nodes: Mi =  9\n",
      "\n",
      "Collection of elements ('triangulation'):\n",
      "\n",
      " T = \n",
      "\n",
      " [[0.   0.1 ]\n",
      " [0.1  0.3 ]\n",
      " [0.3  0.6 ]\n",
      " [0.6  0.8 ]\n",
      " [0.8  0.9 ]\n",
      " [0.9  0.95]\n",
      " [0.95 0.97]\n",
      " [0.97 1.  ]] \n",
      "\n",
      "Number of elements: Mk =  8 \n",
      "\n",
      "Element sizes: H =  [0.1  0.2  0.3  0.2  0.1  0.05 0.02 0.03]\n"
     ]
    }
   ],
   "source": [
    "print(\"\\nNodes: \",Xk,\"\\n\\nNumber of nodes: Mi = \", Mi)\n",
    "print(\"\\nCollection of elements ('triangulation'):\\n\\n T = \\n\\n\",T,\"\\n\\nNumber of elements: Mk = \", Mk,\"\\n\\nElement sizes: H = \",H)"
   ]
  },
  {
   "cell_type": "markdown",
   "metadata": {},
   "source": [
    "Set up the elemental stiffness matrix and elemental load vector)."
   ]
  },
  {
   "cell_type": "code",
   "execution_count": 16,
   "metadata": {},
   "outputs": [],
   "source": [
    "Ak = np.array([[1,-1],[-1,1]])\n",
    "fk = np.array([1/2,1/2])   # f=1"
   ]
  },
  {
   "cell_type": "markdown",
   "metadata": {},
   "source": [
    "Find the local to global mapping (here the elements are numbered from 0, and not from 1)"
   ]
  },
  {
   "cell_type": "code",
   "execution_count": 17,
   "metadata": {},
   "outputs": [],
   "source": [
    "def loc2glob(k,alpha):\n",
    "    return k+alpha          # Numbering k from 0"
   ]
  },
  {
   "cell_type": "markdown",
   "metadata": {},
   "source": [
    "The assembly process:"
   ]
  },
  {
   "cell_type": "code",
   "execution_count": 24,
   "metadata": {},
   "outputs": [],
   "source": [
    "A = np.zeros((Mi,Mi))\n",
    "f = np.zeros((Mi))\n",
    "ftest = np.zeros((Mi))\n",
    "\n",
    "\n",
    "for k in range(1,Mk):\n",
    "    for alpha in range(2):\n",
    "        i = loc2glob(k,alpha)\n",
    "        for beta in range(2):\n",
    "            j = loc2glob(k,beta)\n",
    "            A[i,j] += Ak[alpha,beta]/H[k]\n",
    "        f[i] += fk[alpha]*H[k]\n",
    "\n",
    "    def f1(x):\n",
    "        return (x - Xk[k-1]) / H[k-1]\n",
    "    \n",
    "    def f2(x):\n",
    "        return (Xk[k+1] - x) / H[k]\n",
    "    \"\"\"xtest = np.linspace(Xk[k-1], Xk[k], 10)\n",
    "    plt.plot(xtest, f1(xtest))\n",
    "    xtest = np.linspace(Xk[k], Xk[k+1], 10)\n",
    "    plt.plot(xtest, f2(xtest))\"\"\"\n",
    "\n",
    "    ftest[k] = (integrate.quad(f1, Xk[k-1], Xk[k])[0] + integrate.quad(f2, Xk[k], Xk[k+1])[0])"
   ]
  },
  {
   "cell_type": "markdown",
   "metadata": {},
   "source": [
    "Print the resulting matrix $A$ and vector $f$."
   ]
  },
  {
   "cell_type": "code",
   "execution_count": 25,
   "metadata": {},
   "outputs": [
    {
     "name": "stdout",
     "output_type": "stream",
     "text": [
      "A=\n",
      " [[  0.    0.    0.    0.    0.    0.    0.    0.    0. ]\n",
      " [  0.    5.   -5.    0.    0.    0.    0.    0.    0. ]\n",
      " [  0.   -5.    8.3  -3.3   0.    0.    0.    0.    0. ]\n",
      " [  0.    0.   -3.3   8.3  -5.    0.    0.    0.    0. ]\n",
      " [  0.    0.    0.   -5.   15.  -10.    0.    0.    0. ]\n",
      " [  0.    0.    0.    0.  -10.   30.  -20.    0.    0. ]\n",
      " [  0.    0.    0.    0.    0.  -20.   70.  -50.    0. ]\n",
      " [  0.    0.    0.    0.    0.    0.  -50.   83.3 -33.3]\n",
      " [  0.    0.    0.    0.    0.    0.    0.  -33.3  33.3]] \n",
      "\n",
      " f= [0.    0.1   0.25  0.25  0.15  0.075 0.035 0.025 0.015]\n",
      "[0.    0.15  0.25  0.25  0.15  0.075 0.035 0.025 0.   ]\n",
      "[ 0.00000000e+00 -5.00000000e-02  0.00000000e+00 -5.55111512e-17\n",
      "  1.11022302e-16  0.00000000e+00 -5.55111512e-17  0.00000000e+00\n",
      "  1.50000000e-02]\n"
     ]
    }
   ],
   "source": [
    "print(\"A=\\n\", np.around(A,decimals=1, out=None),\"\\n\\n\",\"f=\", np.around(f,decimals=5, out=None))\n",
    "print(ftest)\n",
    "print(f-ftest)"
   ]
  },
  {
   "cell_type": "markdown",
   "metadata": {},
   "source": [
    "Impose the boundary conditions by changing the first and the last equation. "
   ]
  },
  {
   "cell_type": "code",
   "execution_count": 12,
   "metadata": {},
   "outputs": [
    {
     "name": "stdout",
     "output_type": "stream",
     "text": [
      "A=\n",
      " [[  1.    0.    0.    0.    0.    0.    0.    0.    0. ]\n",
      " [-10.   15.   -5.    0.    0.    0.    0.    0.    0. ]\n",
      " [  0.   -5.    8.3  -3.3   0.    0.    0.    0.    0. ]\n",
      " [  0.    0.   -3.3   8.3  -5.    0.    0.    0.    0. ]\n",
      " [  0.    0.    0.   -5.   15.  -10.    0.    0.    0. ]\n",
      " [  0.    0.    0.    0.  -10.   30.  -20.    0.    0. ]\n",
      " [  0.    0.    0.    0.    0.  -20.   70.  -50.    0. ]\n",
      " [  0.    0.    0.    0.    0.    0.  -50.   83.3 -33.3]\n",
      " [  0.    0.    0.    0.    0.    0.    0.    0.    1. ]] \n",
      "\n",
      " f= [0.  0.2 0.2 0.2 0.2 0.1 0.  0.  0. ]\n"
     ]
    }
   ],
   "source": [
    "# Impose boundary condition\n",
    "# Dirichlet boundary conditions\n",
    "A[0,:] = 0;\n",
    "A[0,0] = 1\n",
    "f[0] = 0\n",
    "A[-1,:] = 0\n",
    "A[-1,-1] = 1\n",
    "f[-1] = 0\n",
    "print(\"A=\\n\", np.around(A,decimals=1, out=None),\"\\n\\n\",\"f=\", np.around(f,decimals=1, out=None))"
   ]
  },
  {
   "cell_type": "markdown",
   "metadata": {},
   "source": [
    "And solve the corresponding linear system"
   ]
  },
  {
   "cell_type": "code",
   "execution_count": 10,
   "metadata": {},
   "outputs": [],
   "source": [
    "U = np.linalg.solve(A,f)"
   ]
  },
  {
   "cell_type": "markdown",
   "metadata": {},
   "source": [
    "Plot the solution. "
   ]
  },
  {
   "cell_type": "code",
   "execution_count": 27,
   "metadata": {},
   "outputs": [
    {
     "data": {
      "image/png": "[encoded data removed]",
      "text/plain": [
       "<Figure size 576x288 with 1 Axes>"
      ]
     },
     "metadata": {
      "needs_background": "light"
     },
     "output_type": "display_data"
    }
   ],
   "source": [
    "plt.plot(Xk,U,Xk, 0.5*Xk*(1-Xk),'o')\n",
    "plt.legend(['Numerical','Exact'])\n",
    "plt.xlabel('x');"
   ]
  },
  {
   "cell_type": "code",
   "execution_count": null,
   "metadata": {},
   "outputs": [],
   "source": []
  }
 ],
 "metadata": {
  "kernelspec": {
   "display_name": "Python 3",
   "language": "python",
   "name": "python3"
  },
  "language_info": {
   "codemirror_mode": {
    "name": "ipython",
    "version": 3
   },
   "file_extension": ".py",
   "mimetype": "text/x-python",
   "name": "python",
   "nbconvert_exporter": "python",
   "pygments_lexer": "ipython3",
   "version": "3.8.3"
  }
 },
 "nbformat": 4,
 "nbformat_minor": 4
}
