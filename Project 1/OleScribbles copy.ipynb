{
 "cells": [
  {
   "cell_type": "code",
   "execution_count": 25,
   "metadata": {},
   "outputs": [],
   "source": [
    "import numpy as np\n",
    "import matplotlib.pyplot as plt"
   ]
  },
  {
   "cell_type": "code",
   "execution_count": 26,
   "metadata": {},
   "outputs": [],
   "source": [
    "def im(grid, title = '', origin = 'lower'):\n",
    "    plt.imshow(grid, origin=origin)\n",
    "    plt.colorbar()\n",
    "    plt.title(title)\n",
    "    plt.show()"
   ]
  },
  {
   "cell_type": "code",
   "execution_count": 27,
   "metadata": {},
   "outputs": [
    {
     "data": {
      "image/png": "[encoded data removed]",
      "text/plain": [
       "<Figure size 432x288 with 2 Axes>"
      ]
     },
     "metadata": {
      "needs_background": "light"
     },
     "output_type": "display_data"
    },
    {
     "data": {
      "image/png": "[encoded data removed]",
      "text/plain": [
       "<Figure size 432x288 with 2 Axes>"
      ]
     },
     "metadata": {
      "needs_background": "light"
     },
     "output_type": "display_data"
    },
    {
     "name": "stdout",
     "output_type": "stream",
     "text": [
      "(2401,)\n"
     ]
    }
   ],
   "source": [
    "def get_etaxi(M):\n",
    "    h = 1/(M+1)\n",
    "    x = np.linspace(0, 1, M+1)\n",
    "    y = np.linspace(0, 1, M+1)\n",
    "    xx, yy = np.meshgrid(x, y)\n",
    "\n",
    "    xigrid = (np.sqrt(1 - yy) - xx)/h\n",
    "    xigrid[xigrid<0] = 1\n",
    "    xigrid[xigrid>1] = 1\n",
    "\n",
    "    etagrid = ((1-xx**2) - yy)/h\n",
    "    etagrid[etagrid<0] = 1\n",
    "    etagrid[etagrid>1] = 1\n",
    "    return etagrid[1:-1,1:-1].flatten(), xigrid[1:-1,1:-1].flatten()\n",
    "\n",
    "M = 50\n",
    "e, x = get_etaxi(M)\n",
    "im(e.reshape((M-1,M-1)))\n",
    "im(x.reshape((M-1,M-1)))\n",
    "print(x.shape)"
   ]
  },
  {
   "cell_type": "code",
   "execution_count": 28,
   "metadata": {},
   "outputs": [
    {
     "name": "stdout",
     "output_type": "stream",
     "text": [
      "2401\n"
     ]
    },
    {
     "data": {
      "image/png": "[encoded data removed]",
      "text/plain": [
       "<Figure size 288x288 with 1 Axes>"
      ]
     },
     "metadata": {
      "needs_background": "light"
     },
     "output_type": "display_data"
    }
   ],
   "source": [
    "num_points = 50\n",
    "\n",
    "def bool_domain_gen(num_points):\n",
    "    x = np.linspace(0, 1, num_points+1)\n",
    "    y = np.linspace(0, 1, num_points+1)\n",
    "    x_g, y_g = np.meshgrid(x, np.sqrt(1-y))\n",
    "    #y_g = y_g[::-1]\n",
    "    bool_domain = x_g < y_g\n",
    "    return bool_domain[1:-1,1:-1]\n",
    "\n",
    "bool_domain = bool_domain_gen(num_points)\n",
    "\n",
    "\n",
    "plt.figure(figsize = (4,4))\n",
    "plt.imshow(bool_domain, origin = 'lower')\n",
    "print(bool_domain.size)"
   ]
  },
  {
   "cell_type": "code",
   "execution_count": 29,
   "metadata": {},
   "outputs": [
    {
     "name": "stdout",
     "output_type": "stream",
     "text": [
      "[49 48 48 47 47 46 46 45 45 44 44 43 43 42 41 41 40 39 39 38 38 37 36 36\n",
      " 35 34 33 33 32 31 30 29 29 28 27 26 25 24 23 22 21 19 18 17 15 14 12 10\n",
      "  7]\n"
     ]
    }
   ],
   "source": [
    "def domain2(dom_mx):\n",
    "    vec = np.zeros(len(dom_mx[0,:]))\n",
    "    for i in range(len(vec)):\n",
    "        vec[i] = np.sum(dom_mx[i])\n",
    "    vec = vec.astype(int)\n",
    "    return vec\n",
    "\n",
    "print(domain2(bool_domain))"
   ]
  },
  {
   "cell_type": "code",
   "execution_count": 30,
   "metadata": {},
   "outputs": [
    {
     "name": "stdout",
     "output_type": "stream",
     "text": [
      "[[4. 0. 0. 0.]\n",
      " [3. 0. 0. 0.]\n",
      " [2. 0. 0. 0.]\n",
      " [2. 2. 3. 4.]]\n"
     ]
    }
   ],
   "source": [
    "def normal_dirichlet(boundaries, alpha = 1, beta = 1):\n",
    "    \"\"\" Create a one-dimensional vector for Dirichlet conditions. Uses natural ordering.\n",
    "\n",
    "    Args:\n",
    "        G (array(4 x M-1)): Matrix with row vectors corresponding respectively to boundary at x = x0, y = y0, x = xend, y = yend\n",
    "        alpha, beta (floats): Constants as defined in text. Optional arguments. \n",
    "\n",
    "    Returns:\n",
    "        g (array(M-1)^2): One dimensional array meant for use in linear system, using natural ordering\n",
    "    \"\"\"\n",
    "    l, t, r, b = boundaries\n",
    "    M = l.shape[0] - 1         # l is M+1\n",
    "    G = np.zeros((M-1, M-1))\n",
    "    G[0, :] += beta * b[1:M]\n",
    "    G[-1, :] += beta * t[1: M]\n",
    "    G[:, 0] += alpha * l[1:M]\n",
    "    G[:, -1] += alpha * r[1:M]\n",
    "    \"\"\"plt.imshow(G)\n",
    "    plt.show()\"\"\"\n",
    "    return G.flatten()\n",
    "\n",
    "\n",
    "# Testing\n",
    "M = 5\n",
    "l = np.arange(M+1)\n",
    "t = np.zeros(M+1)\n",
    "r = np.zeros(M+1)\n",
    "b = np.arange(M+1)\n",
    "\n",
    "g2 = normal_dirichlet([l, t, r, b], 1, 1)\n",
    "#G = np.flip(g2.reshape((M-1,M-1)), 0)\n",
    "print(np.flip(g2.reshape((M-1,M-1)), 0))\n",
    "#np.pad(G, [(1,1)])"
   ]
  },
  {
   "cell_type": "code",
   "execution_count": 31,
   "metadata": {},
   "outputs": [
    {
     "name": "stdout",
     "output_type": "stream",
     "text": [
      "64.0\n",
      "ah:3\n"
     ]
    },
    {
     "data": {
      "image/png": "[encoded data removed]",
      "text/plain": [
       "<Figure size 576x576 with 1 Axes>"
      ]
     },
     "metadata": {
      "needs_background": "light"
     },
     "output_type": "display_data"
    }
   ],
   "source": [
    "def ndiag(consts, offsets, N):\n",
    "    \"\"\"Generate a matrix with arbitrary number of constant diagonals, 0 elsewhere\n",
    "\n",
    "    Args:\n",
    "        consts (list of floats):    list containing floats on diagonal\n",
    "        offsets (list of ints):     list of offsets. Corresponds to the consts list\n",
    "        N (int):                    length of array\n",
    "\n",
    "    Returns:\n",
    "        A (N x N matrix):           matrix with diagonals as specified\n",
    "    \"\"\"\n",
    "    diags = []\n",
    "    for i in range(len(consts)):\n",
    "        diags.append(consts[i] * np.ones(N - np.abs(offsets[i])))\n",
    "\n",
    "    A = np.zeros((N,N))\n",
    "    for i in range(len(diags)):\n",
    "        A += np.diag(diags[i], offsets[i])\n",
    "    return A\n",
    "\n",
    "def triblock_mod(C, B, M, domain_vec):\n",
    "    A = np.kron(np.eye(M-1), C)\n",
    "    A += np.kron(ndiag([1,1], [-1, 1], M-1), B)\n",
    "    if np.size(A) != len(domain_vec)**4:\n",
    "        print(\"np.size(A) != len(domain_vec)**4\")\n",
    "        print(np.size(A))\n",
    "        print(len(domain_vec)**4)\n",
    "    for i in range(len(domain_vec)):\n",
    "        A[(i*(len(domain_vec))+domain_vec[i]):(i+1)*(len(domain_vec)), :] = 0\n",
    "    print(np.sqrt(np.size(A)))\n",
    "    for i in range(len(domain_vec)**2):\n",
    "        if A[i,i] == 0:\n",
    "            A[i,i] = 1\n",
    "    for i in range(len(domain_vec)**2):\n",
    "        if A[i,i] != 1:\n",
    "            if A[i+1,i+1] == 1:\n",
    "                A[i,i+1] = 0\n",
    "            if i < len(domain_vec)**2 - len(domain_vec):\n",
    "                if A[i+len(domain_vec),i+len(domain_vec)] == 1:\n",
    "                    A[i, i+len(domain_vec)] = 0\n",
    "        \n",
    "    return A\n",
    "\n",
    "# Testing\n",
    "M = 9\n",
    "C = ndiag([1,-4,1], [-1,0,1], (M-1))\n",
    "B = 1 * np.eye(M-1)\n",
    "\n",
    "A = triblock_mod(C, B, M, [6,6,6,5,4,3,3,1])\n",
    "\n",
    "print(\"ah:\"+str(len([3,2,1])))\n",
    "plt.figure(0, figsize = (8,8))\n",
    "plt.imshow(A)\n",
    "plt.show()"
   ]
  },
  {
   "cell_type": "code",
   "execution_count": 32,
   "metadata": {},
   "outputs": [
    {
     "data": {
      "text/plain": [
       "'plt.figure(0, figsize = (5,5))\\nfor i in range(int(np.sqrt(np.size(A)))):\\n    for j in range(int(np.sqrt(np.size(A)))):\\n        if A[i,j] == 0:\\n            A[i,j] = True\\n        else:\\n            A[i,j] = False\\nplt.imshow(A)\\nplt.show()'"
      ]
     },
     "execution_count": 32,
     "metadata": {},
     "output_type": "execute_result"
    }
   ],
   "source": [
    "def equation_fixer(A, g2, domain_vec, M, b_function, fvec):\n",
    "    h = 1/(M)\n",
    "    count = 0\n",
    "    etas, xis = get_etaxi(M)\n",
    "    indexes_used = np.zeros((M-1)**2)\n",
    "    if np.size(A) != len(domain_vec)**4:\n",
    "        print(\"np.size(A) != len(domain_vec)**4\")\n",
    "    if np.size(A) != len(g2)**2:\n",
    "        print(\"np.size(A) != len(g2)**2\")\n",
    "    for i in range(len(domain_vec)**2):\n",
    "        if A[i,i] != 1 and i < len(domain_vec)**2 - len(domain_vec):     # outside of domain\n",
    "            if A[i,i+1] == 0 or A[i, i+len(domain_vec)] == 0: # if east or north is removed\n",
    "                indexes_used[i] = 1\n",
    "                x_p = (i%len(domain_vec)+1)*h\n",
    "                y_p = (i//len(domain_vec)+1)*h\n",
    "                eta = etas[i]\n",
    "                xsi = xis[i]\n",
    "                etas[i] = 0.\n",
    "                xis[i] = 0.\n",
    "                #if eta == 1 and xsi == 1:\n",
    "                    #pass\n",
    "                if np.isclose(eta,0) or np.isclose(xsi,0):     # point is (close to) exactly on boundary\n",
    "                    g2[i] = b_function(x_p, y_p)            # ! +-\n",
    "                    print(\"ehwsasfdhdabfxv \")\n",
    "                    fvec[i] = 0\n",
    "                    A[i, :] = 0\n",
    "                    A[i,i] = 1\n",
    "                else:\n",
    "                    A[i,i] = (-2/xsi - 2/eta)\n",
    "                    if i > 0:                                       # Upper left corner excluded\n",
    "                        A[i,i-1] *=  2 / ((1+xsi))\n",
    "                    A[i, i+1] *= ( 2 / (xsi*(1+xsi)) )\n",
    "                    if i > len(domain_vec):                         # exclude bottom\n",
    "                        A[i, i-len(domain_vec)] *=  2 / ((1+eta))\n",
    "                    else:\n",
    "                        g2[i] *= 2 / (1 + eta)\n",
    "                    if i < len(domain_vec)**2 - len(domain_vec):    # exclude top\n",
    "                        A[i, i+len(domain_vec)] *=  ( 2 / (eta*(1+eta)))\n",
    "                    if A[i,i+1] == 0 and (i%len(domain_vec)+1) <len(domain_vec):\n",
    "                        g2[i] -= ( 2 / (xsi*(1+xsi)) ) * b_function(x_p + xsi*h, y_p)\n",
    "                        #print(1 - (x_p + xsi*h)**2 - y_p)\n",
    "              \n",
    "                        #print(\"xih = \", xsi*h)\n",
    "                    if i < len(domain_vec)**2 - len(domain_vec):\n",
    "                        if A[i, i+len(domain_vec)] == 0:\n",
    "                            g2[i] -= ( 2 / (eta*(1+eta)) ) * b_function(x_p, y_p + eta*h)\n",
    "                            #print(1-x_p**2 - (y_p+ eta*h))\n",
    "        elif A[i,i] != 1 and i >= len(domain_vec)**2 - len(domain_vec):\n",
    "            x_p = (i%len(domain_vec)+1)*h\n",
    "            y_p = (i//len(domain_vec)+1)*h\n",
    "            eta = etas[i]\n",
    "            g2[i] -= ( 2 / (eta*(1+eta)) ) * b_function(x_p, y_p + eta*h)\n",
    "            if A[i, i+1] == 0:\n",
    "                eta = etas[i]\n",
    "                xsi = xis[i]\n",
    "                \n",
    "                A[i,i] = (-2/xsi - 2/eta)\n",
    "                g2[i] -= ( 2 / (xsi*(1+xsi)) ) * b_function(x_p + xsi*h, y_p)\n",
    "                if i > 0:\n",
    "                    A[i,i-1] *= 2 / (1 + xsi)\n",
    "                A[i, i+1] *= 2 / (xsi*(1+xsi))\n",
    "                           \n",
    "    return A, g2, [etas,xis], indexes_used\n",
    "\n",
    "\n",
    "\n",
    "\n",
    "left = np.arange(M+1)\n",
    "top = np.zeros(M+1)\n",
    "right = np.zeros(M+1)\n",
    "bottom = np.arange(M+1)\n",
    "\n",
    "\n",
    "g2 = normal_dirichlet([left, top, right, bottom], 1, 1)\n",
    "\n",
    "def bndry_func(x,y):\n",
    "    return x+y\n",
    "\n",
    "#A, g2 = equation_fixer(A, g2, [4,3,3,1], M, bndry_func)\n",
    "\"\"\"plt.figure(0, figsize = (5,5))\n",
    "for i in range(int(np.sqrt(np.size(A)))):\n",
    "    for j in range(int(np.sqrt(np.size(A)))):\n",
    "        if A[i,j] == 0:\n",
    "            A[i,j] = True\n",
    "        else:\n",
    "            A[i,j] = False\n",
    "plt.imshow(A)\n",
    "plt.show()\"\"\""
   ]
  },
  {
   "cell_type": "code",
   "execution_count": 33,
   "metadata": {},
   "outputs": [],
   "source": [
    "for i in range(int(np.sqrt(np.size(A)))):\n",
    "    for j in range(int(np.sqrt(np.size(A)))):\n",
    "        if A[i,j] == 0:\n",
    "            A[i,j] = True\n",
    "        else:\n",
    "            A[i,j] = False"
   ]
  },
  {
   "cell_type": "code",
   "execution_count": 34,
   "metadata": {},
   "outputs": [],
   "source": [
    "def hyper_f_fixer(function_vec, domain_vec):\n",
    "    mod_f_vec = function_vec\n",
    "    for i in range(len(function_vec)):\n",
    "        if function_vec[i] > domain_vec[i//len(domain_vec)]:\n",
    "            mod_f_vec[i] = 0\n",
    "    return mod_f_vec"
   ]
  },
  {
   "cell_type": "code",
   "execution_count": 35,
   "metadata": {},
   "outputs": [
    {
     "name": "stdout",
     "output_type": "stream",
     "text": [
      "2401.0\n",
      "ehwsasfdhdabfxv \n"
     ]
    },
    {
     "data": {
      "image/png": "[encoded data removed]",
      "text/plain": [
       "<Figure size 432x288 with 2 Axes>"
      ]
     },
     "metadata": {
      "needs_background": "light"
     },
     "output_type": "display_data"
    },
    {
     "data": {
      "image/png": "[encoded data removed]",
      "text/plain": [
       "<Figure size 432x288 with 2 Axes>"
      ]
     },
     "metadata": {
      "needs_background": "light"
     },
     "output_type": "display_data"
    },
    {
     "data": {
      "image/png": "[encoded data removed]",
      "text/plain": [
       "<Figure size 432x288 with 2 Axes>"
      ]
     },
     "metadata": {
      "needs_background": "light"
     },
     "output_type": "display_data"
    }
   ],
   "source": [
    "M = 50\n",
    "h = 1/M\n",
    "\n",
    "\n",
    "def hyper_bndry_func(x,y):\n",
    "    return -np.sin(np.pi * x) * np.cos(np.pi * y)\n",
    "\n",
    "C = ndiag([1,-4,1], [-1,0,1], (M-1))\n",
    "B = 1 * np.eye(M-1)\n",
    "\n",
    "def u_exact(x, y):\n",
    "    return np.sin(np.pi * x) * np.cos(np.pi * y)\n",
    "\n",
    "\"\"\"\n",
    "def f(x, y):\n",
    "    return np.pi**2 * ((a+1+r**2) * np.sin(np.pi * x) * np.cos(np.pi * y) + 2*r * np.cos(np.pi * x) * np.sin(np.pi * y))\n",
    "\"\"\"\n",
    "\n",
    "def f(x, y):\n",
    "    return np.pi**2 * (2) * np.sin(np.pi * x) * np.cos(np.pi * y) \n",
    "\n",
    "x = np.linspace(0, 1, M+1)\n",
    "y = np.linspace(0, 1, M+1)\n",
    "xx, yy = np.meshgrid(x, y)\n",
    "fmat = f(xx, yy)[1:-1, 1:-1]\n",
    "fvec = fmat.flatten()\n",
    "U_exact = u_exact(xx, yy)\n",
    "\n",
    "\n",
    "left = U_exact[:, 0]\n",
    "left = np.sin(left*5)\n",
    "top = np.zeros(M+1)\n",
    "right = np.zeros(M+1)\n",
    "bottom = U_exact[0, :]\n",
    "g2 = normal_dirichlet([left, top, right, bottom], 1, 1)\n",
    "\n",
    "omega = domain2(bool_domain_gen(M))\n",
    "\n",
    "hyper_funtion = hyper_f_fixer(fvec, omega)\n",
    "\n",
    "A = triblock_mod(C, B, M, omega)\n",
    "\n",
    "A, g2, used, indexes_used = equation_fixer(A, g2, omega, M, hyper_bndry_func, hyper_funtion)\n",
    "G = g2.reshape((M-1,M-1))\n",
    "U_vec = np.linalg.solve(A, -g2 - hyper_funtion*h**2)\n",
    "U = U_vec.reshape((M-1, M-1))\n",
    "#im(used[0].reshape((M-1,M-1)))\n",
    "#im(used[1].reshape((M-1,M-1)))\n",
    "im(U, 'Numerical')\n",
    "im(U_exact, 'Analytical')\n",
    "im(U_exact[1:-1,1:-1] - U, 'Error')\n",
    "#im(U  -1/5 * g2.reshape((M-1,M-1)))\n",
    "#G[G != 0] = 1\n",
    "#im(indexes_used.reshape((M-1,M-1)) + G)   "
   ]
  },
  {
   "cell_type": "code",
   "execution_count": 36,
   "metadata": {},
   "outputs": [
    {
     "data": {
      "image/png": "[encoded data removed]",
      "text/plain": [
       "<Figure size 720x720 with 1 Axes>"
      ]
     },
     "metadata": {
      "needs_background": "light"
     },
     "output_type": "display_data"
    }
   ],
   "source": [
    "plt.figure(0, figsize = (10,10))\n",
    "for i in range(int(np.sqrt(np.size(A)))):\n",
    "    for j in range(int(np.sqrt(np.size(A)))):\n",
    "        if A[i,j] == 0:\n",
    "            A[i,j] = True\n",
    "        else:\n",
    "            A[i,j] = False\n",
    "plt.imshow(A)\n",
    "plt.show()"
   ]
  },
  {
   "cell_type": "code",
   "execution_count": 37,
   "metadata": {},
   "outputs": [
    {
     "ename": "ValueError",
     "evalue": "cannot reshape array of size 2304 into shape (49,49)",
     "output_type": "error",
     "traceback": [
      "\u001b[1;31m---------------------------------------------------------------------------\u001b[0m",
      "\u001b[1;31mValueError\u001b[0m                                Traceback (most recent call last)",
      "\u001b[1;32mc:\\Users\\rannu\\OneDrive - NTNU\\Desktop\\VsPython\\NumDiff\\NumDiffAlex\\TMA4212-NumDiffDiff\\Project 1\\OleScribbles copy.ipynb Cell 13\u001b[0m in \u001b[0;36m<cell line: 15>\u001b[1;34m()\u001b[0m\n\u001b[0;32m     <a href='vscode-notebook-cell:/c%3A/Users/rannu/OneDrive%20-%20NTNU/Desktop/VsPython/NumDiff/NumDiffAlex/TMA4212-NumDiffDiff/Project%201/OleScribbles%20copy.ipynb#X36sZmlsZQ%3D%3D?line=12'>13</a>\u001b[0m eta, xi \u001b[39m=\u001b[39m get_etaxi(M\u001b[39m-\u001b[39m\u001b[39m1\u001b[39m)\n\u001b[0;32m     <a href='vscode-notebook-cell:/c%3A/Users/rannu/OneDrive%20-%20NTNU/Desktop/VsPython/NumDiff/NumDiffAlex/TMA4212-NumDiffDiff/Project%201/OleScribbles%20copy.ipynb#X36sZmlsZQ%3D%3D?line=13'>14</a>\u001b[0m eta2, xi2 \u001b[39m=\u001b[39m get_etaxi(M)\n\u001b[1;32m---> <a href='vscode-notebook-cell:/c%3A/Users/rannu/OneDrive%20-%20NTNU/Desktop/VsPython/NumDiff/NumDiffAlex/TMA4212-NumDiffDiff/Project%201/OleScribbles%20copy.ipynb#X36sZmlsZQ%3D%3D?line=14'>15</a>\u001b[0m new \u001b[39m=\u001b[39m (g2)\u001b[39m.\u001b[39mreshape((M\u001b[39m-\u001b[39m\u001b[39m1\u001b[39m,M\u001b[39m-\u001b[39m\u001b[39m1\u001b[39m)) \u001b[39m+\u001b[39m xi\u001b[39m.\u001b[39;49mreshape((M\u001b[39m-\u001b[39;49m\u001b[39m1\u001b[39;49m,M\u001b[39m-\u001b[39;49m\u001b[39m1\u001b[39;49m))\n\u001b[0;32m     <a href='vscode-notebook-cell:/c%3A/Users/rannu/OneDrive%20-%20NTNU/Desktop/VsPython/NumDiff/NumDiffAlex/TMA4212-NumDiffDiff/Project%201/OleScribbles%20copy.ipynb#X36sZmlsZQ%3D%3D?line=15'>16</a>\u001b[0m im(new)\n\u001b[0;32m     <a href='vscode-notebook-cell:/c%3A/Users/rannu/OneDrive%20-%20NTNU/Desktop/VsPython/NumDiff/NumDiffAlex/TMA4212-NumDiffDiff/Project%201/OleScribbles%20copy.ipynb#X36sZmlsZQ%3D%3D?line=16'>17</a>\u001b[0m im(eta\u001b[39m.\u001b[39mreshape((M\u001b[39m-\u001b[39m\u001b[39m1\u001b[39m,M\u001b[39m-\u001b[39m\u001b[39m1\u001b[39m)))\n",
      "\u001b[1;31mValueError\u001b[0m: cannot reshape array of size 2304 into shape (49,49)"
     ]
    },
    {
     "data": {
      "text/plain": [
       "<Figure size 720x720 with 0 Axes>"
      ]
     },
     "metadata": {},
     "output_type": "display_data"
    }
   ],
   "source": [
    "g_mx = np.flip((g2).reshape((M-1,M-1)), 0)\n",
    "plt.figure(0, figsize = (10,10))\n",
    "#print(g_mx.astype(int))\n",
    "\"\"\"for i in range(int(np.sqrt(np.size(g_mx)))):\n",
    "    for j in range(int(np.sqrt(np.size(g_mx)))):\n",
    "        if g_mx[i,j] == 0:\n",
    "            g_mx[i,j] = True\n",
    "        else:\n",
    "            g_mx[i,j] = False\n",
    "plt.imshow(g_mx)\n",
    "plt.show()\"\"\"\n",
    "\n",
    "eta, xi = get_etaxi(M-1)\n",
    "eta2, xi2 = get_etaxi(M)\n",
    "new = (g2).reshape((M-1,M-1)) + xi.reshape((M-1,M-1))\n",
    "im(new)\n",
    "im(eta.reshape((M-1,M-1)))\n",
    "im((g2).reshape((M-1,M-1)))\n"
   ]
  },
  {
   "cell_type": "code",
   "execution_count": null,
   "metadata": {},
   "outputs": [],
   "source": []
  },
  {
   "cell_type": "code",
   "execution_count": null,
   "metadata": {},
   "outputs": [],
   "source": []
  }
 ],
 "metadata": {
  "kernelspec": {
   "display_name": "base",
   "language": "python",
   "name": "python3"
  },
  "language_info": {
   "codemirror_mode": {
    "name": "ipython",
    "version": 3
   },
   "file_extension": ".py",
   "mimetype": "text/x-python",
   "name": "python",
   "nbconvert_exporter": "python",
   "pygments_lexer": "ipython3",
   "version": "3.9.12"
  },
  "orig_nbformat": 4,
  "vscode": {
   "interpreter": {
    "hash": "ad2bdc8ecc057115af97d19610ffacc2b4e99fae6737bb82f5d7fb13d2f2c186"
   }
  }
 },
 "nbformat": 4,
 "nbformat_minor": 2
}
