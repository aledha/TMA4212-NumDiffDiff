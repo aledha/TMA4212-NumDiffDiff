{
 "cells": [
  {
   "cell_type": "code",
   "execution_count": 589,
   "metadata": {},
   "outputs": [],
   "source": [
    "import numpy as np\n",
    "import matplotlib.pyplot as plt"
   ]
  },
  {
   "cell_type": "code",
   "execution_count": 590,
   "metadata": {},
   "outputs": [
    {
     "data": {
      "text/plain": [
       "<matplotlib.image.AxesImage at 0x23dc22b0100>"
      ]
     },
     "execution_count": 590,
     "metadata": {},
     "output_type": "execute_result"
    },
    {
     "data": {
      "image/png": "[encoded data removed]",
      "text/plain": [
       "<Figure size 288x288 with 1 Axes>"
      ]
     },
     "metadata": {
      "needs_background": "light"
     },
     "output_type": "display_data"
    }
   ],
   "source": [
    "num_points = 15\n",
    "\n",
    "def bool_domain_gen(num_points):\n",
    "    x = np.linspace(0, 1, num_points)\n",
    "    y = np.linspace(0, 1, num_points)\n",
    "    x_g, y_g = np.meshgrid(x, np.sqrt(1-y))\n",
    "    y_g = y_g[::-1]\n",
    "    bool_domain = x_g < y_g\n",
    "    return bool_domain\n",
    "\n",
    "bool_domain = bool_domain_gen(num_points)\n",
    "\n",
    "\n",
    "plt.figure(figsize = (4,4))\n",
    "plt.imshow(bool_domain)"
   ]
  },
  {
   "cell_type": "code",
   "execution_count": 591,
   "metadata": {},
   "outputs": [
    {
     "name": "stdout",
     "output_type": "stream",
     "text": [
      "[14 14 13 13 12 12 11 10 10  9  8  7  6  4  0]\n"
     ]
    }
   ],
   "source": [
    "def domain2(dom_mx):\n",
    "    vec = np.zeros(len(dom_mx[0,:]))\n",
    "    for i in range(len(vec)):\n",
    "        vec[i] = np.sum(dom_mx[i])\n",
    "    vec = np.flip(vec).astype(int)\n",
    "    return vec\n",
    "\n",
    "print(domain2(bool_domain))"
   ]
  },
  {
   "cell_type": "code",
   "execution_count": 592,
   "metadata": {},
   "outputs": [
    {
     "name": "stdout",
     "output_type": "stream",
     "text": [
      "[15 14 13 13 12 12 11 10  9  8  8  6  5  4  0]\n"
     ]
    }
   ],
   "source": [
    "from math import floor\n",
    "\n",
    "def domain(M):\n",
    "    h = 1/M\n",
    "\n",
    "    x = np.linspace(0,1,M)\n",
    "    y = np.linspace(0,1,M)\n",
    "    #P = (np.sqrt(1-y)//h).astype(int)\n",
    "    P = (np.sqrt(1-y)//h).astype(int)\n",
    "    return P\n",
    "\n",
    "print(domain(num_points))"
   ]
  },
  {
   "cell_type": "code",
   "execution_count": 593,
   "metadata": {},
   "outputs": [
    {
     "name": "stdout",
     "output_type": "stream",
     "text": [
      "[[4. 0. 0. 0.]\n",
      " [3. 0. 0. 0.]\n",
      " [2. 0. 0. 0.]\n",
      " [2. 2. 3. 4.]]\n"
     ]
    }
   ],
   "source": [
    "def normal_dirichlet(boundaries, alpha = 1, beta = 1):\n",
    "    \"\"\" Create a one-dimensional vector for Dirichlet conditions. Uses natural ordering.\n",
    "\n",
    "    Args:\n",
    "        G (array(4 x M-1)): Matrix with row vectors corresponding respectively to boundary at x = x0, y = y0, x = xend, y = yend\n",
    "        alpha, beta (floats): Constants as defined in text. Optional arguments. \n",
    "\n",
    "    Returns:\n",
    "        g (array(M-1)^2): One dimensional array meant for use in linear system, using natural ordering\n",
    "    \"\"\"\n",
    "    l, t, r, b = boundaries\n",
    "    M = l.shape[0] - 1         # l is M+1\n",
    "    G = np.zeros((M-1, M-1))\n",
    "    G[0, :] += beta * b[1:M]\n",
    "    G[-1, :] += beta * t[1: M]\n",
    "    G[:, 0] += alpha * l[1:M]\n",
    "    G[:, -1] += alpha * r[1:M]\n",
    "    \"\"\"plt.imshow(G)\n",
    "    plt.show()\"\"\"\n",
    "    return G.flatten()\n",
    "\n",
    "\n",
    "# Testing\n",
    "M = 5\n",
    "l = np.arange(M+1)\n",
    "t = np.zeros(M+1)\n",
    "r = np.zeros(M+1)\n",
    "b = np.arange(M+1)\n",
    "\n",
    "g2 = normal_dirichlet([l, t, r, b], 1, 1)\n",
    "#G = np.flip(g2.reshape((M-1,M-1)), 0)\n",
    "print(np.flip(g2.reshape((M-1,M-1)), 0))\n",
    "#np.pad(G, [(1,1)])"
   ]
  },
  {
   "cell_type": "code",
   "execution_count": 594,
   "metadata": {},
   "outputs": [
    {
     "name": "stdout",
     "output_type": "stream",
     "text": [
      "16.0\n",
      "ah:3\n"
     ]
    },
    {
     "data": {
      "image/png": "[encoded data removed]",
      "text/plain": [
       "<Figure size 360x360 with 1 Axes>"
      ]
     },
     "metadata": {
      "needs_background": "light"
     },
     "output_type": "display_data"
    }
   ],
   "source": [
    "def ndiag(consts, offsets, N):\n",
    "    \"\"\"Generate a matrix with arbitrary number of constant diagonals, 0 elsewhere\n",
    "\n",
    "    Args:\n",
    "        consts (list of floats):    list containing floats on diagonal\n",
    "        offsets (list of ints):     list of offsets. Corresponds to the consts list\n",
    "        N (int):                    length of array\n",
    "\n",
    "    Returns:\n",
    "        A (N x N matrix):           matrix with diagonals as specified\n",
    "    \"\"\"\n",
    "    diags = []\n",
    "    for i in range(len(consts)):\n",
    "        diags.append(consts[i] * np.ones(N - np.abs(offsets[i])))\n",
    "\n",
    "    A = np.zeros((N,N))\n",
    "    for i in range(len(diags)):\n",
    "        A += np.diag(diags[i], offsets[i])\n",
    "    return A\n",
    "\n",
    "def triblock_mod(C, B, M, domain_vec):\n",
    "    A = np.kron(np.eye(M-1), C)\n",
    "    A += np.kron(ndiag([1,1], [-1, 1], M-1), B)\n",
    "    if np.size(A) != len(domain_vec)**4:\n",
    "        print(\"np.size(A) != len(domain_vec)**4\")\n",
    "        print(np.size(A))\n",
    "        print(len(domain_vec)**4)\n",
    "    for i in range(len(domain_vec)):\n",
    "        A[(i*(len(domain_vec))+domain_vec[i]):(i+1)*(len(domain_vec)), :] = 0\n",
    "    print(np.sqrt(np.size(A)))\n",
    "    for i in range(len(domain_vec)**2):\n",
    "        if A[i,i] == 0:\n",
    "            A[i,i] = 1\n",
    "    for i in range(len(domain_vec)**2):\n",
    "        if A[i,i] != 1:\n",
    "            if A[i+1,i+1] == 1:\n",
    "                A[i,i+1] = 0\n",
    "            if i < len(domain_vec)**2 - len(domain_vec):\n",
    "                if A[i+len(domain_vec),i+len(domain_vec)] == 1:\n",
    "                    A[i, i+len(domain_vec)] = 0\n",
    "        \n",
    "    return A\n",
    "\n",
    "# Testing\n",
    "M = 5\n",
    "C = ndiag([1,-4,1], [-1,0,1], (M-1))\n",
    "B = 1 * np.eye(M-1)\n",
    "\n",
    "\n",
    "A = triblock_mod(C, B, M, [4,3,3,1])\n",
    "\n",
    "\n",
    "\n",
    "print(\"ah:\"+str(len([3,2,1])))\n",
    "plt.figure(0, figsize = (5,5))\n",
    "plt.imshow(A)\n",
    "plt.show()"
   ]
  },
  {
   "cell_type": "code",
   "execution_count": 595,
   "metadata": {},
   "outputs": [
    {
     "data": {
      "image/png": "[encoded data removed]",
      "text/plain": [
       "<Figure size 360x360 with 1 Axes>"
      ]
     },
     "metadata": {
      "needs_background": "light"
     },
     "output_type": "display_data"
    }
   ],
   "source": [
    "def equation_fixer(A, g2, domain_vec, M, b_function):\n",
    "    h = 1/M\n",
    "    if np.size(A) != len(domain_vec)**4:\n",
    "        print(\"np.size(A) != len(domain_vec)**4\")\n",
    "    if np.size(A) != len(g2)**2:\n",
    "        print(\"np.size(A) != len(g2)**2\")\n",
    "    for i in range(len(domain_vec)**2-1):\n",
    "        if A[i,i] != 1:\n",
    "            if A[i,i+1] == 0 or A[i, i+len(domain_vec)] == 0:\n",
    "                x_p = (i%len(domain_vec)+1)*h\n",
    "                y_p = (i//len(domain_vec)+1)*h\n",
    "                eta = (1 - x_p**2 - y_p)/h\n",
    "                xsi = (np.sqrt(1-y_p) - x_p)/h\n",
    "                \n",
    "                A[i,i] = -(-2/xsi - 2/eta)\n",
    "                if i > 0:\n",
    "                    A[i,i-1] *=  2 / ((1+xsi))\n",
    "                A[i, i+1] *= ( 2 / (xsi*(1+xsi)) )\n",
    "                if i > len(domain_vec):\n",
    "                    A[i, i-len(domain_vec)] =  2 / ((1+eta))\n",
    "                if i < len(domain_vec)**2 - len(domain_vec):\n",
    "                    A[i, i+len(domain_vec)] *=  ( 2 / (eta*(1+eta)) )\n",
    "                \"\"\"\n",
    "                A[i,i] = 5\n",
    "                \n",
    "                A[i,i-1] = 5\n",
    "                A[i, i+1] = A[i, i+1]*5\n",
    "                if i > len(domain_vec):\n",
    "                    A[i, i-len(domain_vec)] = 5\n",
    "                if i < len(domain_vec)**2 - len(domain_vec):\n",
    "                    A[i, i+len(domain_vec)] = A[i, i+len(domain_vec)]*5\n",
    "                \"\"\"\n",
    "                \n",
    "                \"\"\"\n",
    "                if A[i+1,i+1] == 1:\n",
    "                    g2[i] += ( 2 / (xsi*(1+xsi)*(h**2)) ) * b_function(x_p + xsi, y_p)\n",
    "                if i < len(domain_vec)**2 - len(domain_vec):\n",
    "                    if A[i+len(domain_vec),i+len(domain_vec)] == 1:\n",
    "                        g2[i] += ( 2 / (eta*(h**2)*(1+eta)) ) * b_function(x_p, y_p + eta)\n",
    "                \"\"\"      \n",
    "                \n",
    "                if A[i,i+1] == 0 and (i%len(domain_vec)+1) <len(domain_vec)+1:\n",
    "                    g2[i] += ( 2 / (xsi*(1+xsi)) ) * b_function(x_p + xsi, y_p)\n",
    "                if i < len(domain_vec)**2 - len(domain_vec):\n",
    "                    if A[i, i+len(domain_vec)] == 0:\n",
    "                        g2[i] += ( 2 / (eta*(1+eta)) ) * b_function(x_p, y_p + eta)\n",
    "                \n",
    "    return A, g2\n",
    "\n",
    "\n",
    "\n",
    "\n",
    "left = np.arange(M+1)\n",
    "top = np.zeros(M+1)\n",
    "right = np.zeros(M+1)\n",
    "bottom = np.arange(M+1)\n",
    "\n",
    "\n",
    "g2 = normal_dirichlet([left, top, right, bottom], 1, 1)\n",
    "\n",
    "def bndry_func(x,y):\n",
    "    return x+y\n",
    "\n",
    "A, g2 = equation_fixer(A, g2, [4,3,3,1], M, bndry_func)\n",
    "plt.figure(0, figsize = (5,5))\n",
    "for i in range(int(np.sqrt(np.size(A)))):\n",
    "    for j in range(int(np.sqrt(np.size(A)))):\n",
    "        if A[i,j] == 0:\n",
    "            A[i,j] = True\n",
    "        else:\n",
    "            A[i,j] = False\n",
    "plt.imshow(A)\n",
    "plt.show()"
   ]
  },
  {
   "cell_type": "code",
   "execution_count": 596,
   "metadata": {},
   "outputs": [],
   "source": [
    "for i in range(int(np.sqrt(np.size(A)))):\n",
    "    for j in range(int(np.sqrt(np.size(A)))):\n",
    "        if A[i,j] == 0:\n",
    "            A[i,j] = True\n",
    "        else:\n",
    "            A[i,j] = False"
   ]
  },
  {
   "cell_type": "code",
   "execution_count": 597,
   "metadata": {},
   "outputs": [],
   "source": [
    "def hyper_f_fixer(function_vec, domain_vec):\n",
    "    mod_f_vec = function_vec\n",
    "    for i in range(len(function_vec)):\n",
    "        if function_vec[i] > domain_vec[i//len(domain_vec)]:\n",
    "            mod_f_vec[i] = 0\n",
    "    return mod_f_vec"
   ]
  },
  {
   "cell_type": "code",
   "execution_count": 598,
   "metadata": {},
   "outputs": [
    {
     "name": "stdout",
     "output_type": "stream",
     "text": [
      "2401.0\n"
     ]
    },
    {
     "data": {
      "image/png": "[encoded data removed]",
      "text/plain": [
       "<Figure size 432x288 with 2 Axes>"
      ]
     },
     "metadata": {
      "needs_background": "light"
     },
     "output_type": "display_data"
    }
   ],
   "source": [
    "M = 50\n",
    "h = 1/M\n",
    "a = 1\n",
    "\n",
    "#left = np.ones(M+1)\n",
    "left = np.arange(M+1)\n",
    "left = np.sin(left*5)\n",
    "top = np.zeros(M+1)\n",
    "right = np.zeros(M+1)\n",
    "bottom = np.ones(M+1)\n",
    "g2 = normal_dirichlet([left, top, right, bottom], a, 1)\n",
    "\n",
    "def hyper_bndry_func(x,y):\n",
    "    return -1\n",
    "\n",
    "C = ndiag([1,-4,1], [-1,0,1], (M-1))\n",
    "B = 1 * np.eye(M-1)\n",
    "\n",
    "\n",
    "\n",
    "\n",
    "def u_exact(x, y):\n",
    "    return np.sin(np.pi * x) * np.cos(np.pi * y)\n",
    "\n",
    "\"\"\"\n",
    "def f(x, y):\n",
    "    return np.pi**2 * ((a+1+r**2) * np.sin(np.pi * x) * np.cos(np.pi * y) + 2*r * np.cos(np.pi * x) * np.sin(np.pi * y))\n",
    "\"\"\"\n",
    "\n",
    "def f(x, y):\n",
    "    return np.pi**2 * ((a+2) * np.sin(np.pi * x) * np.cos(np.pi * y) + 2 * np.cos(np.pi * x) * np.sin(np.pi * y))\n",
    "\n",
    "\n",
    "x = np.linspace(0, 1, M+1)\n",
    "y = np.linspace(0, 1, M+1)\n",
    "xx, yy = np.meshgrid(x, y)\n",
    "fmat = f(xx, yy)[1:-1, 1:-1]\n",
    "fvec = fmat.flatten()\n",
    "U_exact = u_exact(xx, yy)\n",
    "b = U_exact[0, :]\n",
    "t = U_exact[-1, :]\n",
    "l = U_exact[:, 0]\n",
    "r = U_exact[:, -1]\n",
    "boundaries = [l,t,r,b]\n",
    "\n",
    "\n",
    "\n",
    "\n",
    "omega = domain2(bool_domain_gen(M-1))\n",
    "\n",
    "#hyper_funtion = hyper_f_fixer(np.ones((M-1)**2), omega)\n",
    "\n",
    "A = triblock_mod(C, B, M, omega)\n",
    "\n",
    "A, g2 = equation_fixer(A, g2, omega, M, hyper_bndry_func)\n",
    "\n",
    "U_vec = np.linalg.solve(A, -g2 - fvec*h**2)\n",
    "U = U_vec.reshape((M-1, M-1))[::-1]\n",
    "\n",
    "plt.title('Numerical')\n",
    "plt.imshow(U)\n",
    "plt.colorbar()\n",
    "plt.show()"
   ]
  },
  {
   "cell_type": "code",
   "execution_count": 599,
   "metadata": {},
   "outputs": [
    {
     "data": {
      "image/png": "[encoded data removed]",
      "text/plain": [
       "<Figure size 720x720 with 1 Axes>"
      ]
     },
     "metadata": {
      "needs_background": "light"
     },
     "output_type": "display_data"
    }
   ],
   "source": [
    "plt.figure(0, figsize = (10,10))\n",
    "for i in range(int(np.sqrt(np.size(A)))):\n",
    "    for j in range(int(np.sqrt(np.size(A)))):\n",
    "        if A[i,j] == 0:\n",
    "            A[i,j] = True\n",
    "        else:\n",
    "            A[i,j] = False\n",
    "plt.imshow(A)\n",
    "plt.show()"
   ]
  },
  {
   "cell_type": "code",
   "execution_count": 600,
   "metadata": {},
   "outputs": [
    {
     "name": "stdout",
     "output_type": "stream",
     "text": [
      "[[ 0  0  0 ...  0  0  0]\n",
      " [ 0  0  0 ...  0  0  0]\n",
      " [ 0  0  0 ...  0  0  0]\n",
      " ...\n",
      " [ 0  0  0 ...  0  0  0]\n",
      " [ 0  0  0 ...  0 -1  0]\n",
      " [ 0  1  1 ...  1  0  1]]\n"
     ]
    },
    {
     "data": {
      "image/png": "[encoded data removed]",
      "text/plain": [
       "<Figure size 720x720 with 1 Axes>"
      ]
     },
     "metadata": {
      "needs_background": "light"
     },
     "output_type": "display_data"
    }
   ],
   "source": [
    "g_mx = np.flip((g2).reshape((M-1,M-1)), 0)\n",
    "plt.figure(0, figsize = (10,10))\n",
    "print(g_mx.astype(int))\n",
    "for i in range(int(np.sqrt(np.size(g_mx)))):\n",
    "    for j in range(int(np.sqrt(np.size(g_mx)))):\n",
    "        if g_mx[i,j] == 0:\n",
    "            g_mx[i,j] = True\n",
    "        else:\n",
    "            g_mx[i,j] = False\n",
    "plt.imshow(g_mx)\n",
    "plt.show()\n"
   ]
  },
  {
   "cell_type": "code",
   "execution_count": null,
   "metadata": {},
   "outputs": [],
   "source": []
  },
  {
   "cell_type": "code",
   "execution_count": null,
   "metadata": {},
   "outputs": [],
   "source": []
  }
 ],
 "metadata": {
  "kernelspec": {
   "display_name": "myenv.venv",
   "language": "python",
   "name": "python3"
  },
  "language_info": {
   "codemirror_mode": {
    "name": "ipython",
    "version": 3
   },
   "file_extension": ".py",
   "mimetype": "text/x-python",
   "name": "python",
   "nbconvert_exporter": "python",
   "pygments_lexer": "ipython3",
   "version": "3.9.13"
  },
  "orig_nbformat": 4,
  "vscode": {
   "interpreter": {
    "hash": "4743cdacb4e4f04bfa8ace0aa391c3df3b1bbb3ea74299775d8b8ac3466b932a"
   }
  }
 },
 "nbformat": 4,
 "nbformat_minor": 2
}
