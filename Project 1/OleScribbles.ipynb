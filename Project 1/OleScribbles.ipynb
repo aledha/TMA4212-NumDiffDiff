{
 "cells": [
  {
   "cell_type": "code",
   "execution_count": 2,
   "metadata": {},
   "outputs": [],
   "source": [
    "import numpy as np\n",
    "import matplotlib.pyplot as plt"
   ]
  },
  {
   "cell_type": "code",
   "execution_count": 3,
   "metadata": {},
   "outputs": [
    {
     "data": {
      "text/plain": [
       "<matplotlib.image.AxesImage at 0x7fc70e2a0190>"
      ]
     },
     "execution_count": 3,
     "metadata": {},
     "output_type": "execute_result"
    },
    {
     "data": {
      "image/png": "[encoded data removed]",
      "text/plain": [
       "<Figure size 400x400 with 1 Axes>"
      ]
     },
     "metadata": {},
     "output_type": "display_data"
    }
   ],
   "source": [
    "num_points = 10\n",
    "x = np.linspace(0, 1, num_points)\n",
    "y = np.linspace(0, 1, num_points)\n",
    "def bool_domain_gen(x, y, num_points):\n",
    "    x_g, y_g = np.meshgrid(x, np.sqrt(1-y))\n",
    "    y_g = y_g[::-1]\n",
    "    bool_domain = x_g < y_g\n",
    "    return bool_domain\n",
    "\n",
    "bool_domain = bool_domain_gen(x, y, num_points)\n",
    "\n",
    "\n",
    "plt.figure(figsize = (4,4))\n",
    "plt.imshow(bool_domain)"
   ]
  },
  {
   "cell_type": "code",
   "execution_count": 4,
   "metadata": {},
   "outputs": [
    {
     "name": "stdout",
     "output_type": "stream",
     "text": [
      "[9 9 8 8 7 6 5 4 3 0]\n"
     ]
    }
   ],
   "source": [
    "from math import floor\n",
    "\n",
    "def domain(M):\n",
    "    h = 1/M\n",
    "\n",
    "    x = np.linspace(0,1,M)\n",
    "    y = np.linspace(0,1,M)\n",
    "    #P = (np.sqrt(1-y)//h).astype(int)\n",
    "    P = (np.sqrt(1-y)//h).astype(int)\n",
    "    return P\n",
    "\n",
    "print(domain(10))"
   ]
  },
  {
   "cell_type": "code",
   "execution_count": 5,
   "metadata": {},
   "outputs": [
    {
     "name": "stdout",
     "output_type": "stream",
     "text": [
      "[[4. 0. 0. 0.]\n",
      " [3. 0. 0. 0.]\n",
      " [2. 0. 0. 0.]\n",
      " [1. 2. 3. 4.]]\n"
     ]
    }
   ],
   "source": [
    "def normal_dirichlet(boundaries, alpha = 1, beta = 1):\n",
    "    \"\"\" Create a one-dimensional vector for Dirichlet conditions. Uses natural ordering.\n",
    "\n",
    "    Args:\n",
    "        G (array(4 x M-1)): Matrix with row vectors corresponding respectively to boundary at x = x0, y = y0, x = xend, y = yend\n",
    "        alpha, beta (floats): Constants as defined in text. Optional arguments. \n",
    "\n",
    "    Returns:\n",
    "        g (array(M-1)^2): One dimensional array meant for use in linear system, using natural ordering\n",
    "    \"\"\"\n",
    "    l, t, r, b = boundaries\n",
    "    M = l.shape[0] - 1         # l is M+1\n",
    "    G = np.zeros((M-1, M-1))\n",
    "    G[0, 1:] += beta * b[2:M]\n",
    "    G[-1, :-1] += beta * t[2: M]\n",
    "    G[:, 0] += alpha * l[1:M]\n",
    "    G[:, -1] += alpha * r[1:M]\n",
    "    \"\"\"plt.imshow(G)\n",
    "    plt.show()\"\"\"\n",
    "    return G.flatten()\n",
    "\n",
    "\n",
    "# Testing\n",
    "M = 5\n",
    "l = np.arange(M+1)\n",
    "t = np.zeros(M+1)\n",
    "r = np.zeros(M+1)\n",
    "b = np.arange(M+1)\n",
    "\n",
    "g2 = normal_dirichlet([l, t, r, b], 1, 1)\n",
    "#G = np.flip(g2.reshape((M-1,M-1)), 0)\n",
    "print(np.flip(g2.reshape((M-1,M-1)), 0))\n",
    "#np.pad(G, [(1,1)])"
   ]
  },
  {
   "cell_type": "code",
   "execution_count": 6,
   "metadata": {},
   "outputs": [
    {
     "name": "stdout",
     "output_type": "stream",
     "text": [
      "16.0\n",
      "ah:3\n"
     ]
    },
    {
     "data": {
      "image/png": "[encoded data removed]",
      "text/plain": [
       "<Figure size 500x500 with 1 Axes>"
      ]
     },
     "metadata": {},
     "output_type": "display_data"
    }
   ],
   "source": [
    "def ndiag(consts, offsets, N):\n",
    "    \"\"\"Generate a matrix with arbitrary number of constant diagonals, 0 elsewhere\n",
    "\n",
    "    Args:\n",
    "        consts (list of floats):    list containing floats on diagonal\n",
    "        offsets (list of ints):     list of offsets. Corresponds to the consts list\n",
    "        N (int):                    length of array\n",
    "\n",
    "    Returns:\n",
    "        A (N x N matrix):           matrix with diagonals as specified\n",
    "    \"\"\"\n",
    "    diags = []\n",
    "    for i in range(len(consts)):\n",
    "        diags.append(consts[i] * np.ones(N - np.abs(offsets[i])))\n",
    "\n",
    "    A = np.zeros((N,N))\n",
    "    for i in range(len(diags)):\n",
    "        A += np.diag(diags[i], offsets[i])\n",
    "    return A\n",
    "\n",
    "def triblock_mod(C, B, M, domain_vec):\n",
    "    A = np.kron(np.eye(M-1), C)\n",
    "    A += np.kron(ndiag([1,1], [-1, 1], M-1), B)\n",
    "    if np.size(A) != len(domain_vec)**4:\n",
    "        print(\"np.size(A) != len(domain_vec)**4\")\n",
    "        print(np.size(A))\n",
    "        print(len(domain_vec)**4)\n",
    "    for i in range(len(domain_vec)):\n",
    "        A[(i*(len(domain_vec))+domain_vec[i]):(i+1)*(len(domain_vec)), :] = 0\n",
    "    print(np.sqrt(np.size(A)))\n",
    "    for i in range(len(domain_vec)**2):\n",
    "        if A[i,i] == 0:\n",
    "            A[i,i] = 1\n",
    "    for i in range(len(domain_vec)**2):\n",
    "        if A[i,i] != 1:\n",
    "            if A[i+1,i+1] == 1:\n",
    "                A[i,i+1] = 0\n",
    "            if i < len(domain_vec)**2 - len(domain_vec):\n",
    "                if A[i+len(domain_vec),i+len(domain_vec)] == 1:\n",
    "                    A[i, i+len(domain_vec)] = 0\n",
    "        \n",
    "    return A\n",
    "\n",
    "# Testing\n",
    "M = 5\n",
    "C = ndiag([1,-4,1], [-1,0,1], (M-1))\n",
    "B = 1 * np.eye(M-1)\n",
    "\n",
    "\n",
    "A = triblock_mod(C, B, M, [4,3,3,1])\n",
    "\n",
    "\n",
    "\n",
    "print(\"ah:\"+str(len([3,2,1])))\n",
    "plt.figure(0, figsize = (5,5))\n",
    "plt.imshow(A)\n",
    "plt.show()"
   ]
  },
  {
   "cell_type": "code",
   "execution_count": 7,
   "metadata": {},
   "outputs": [
    {
     "data": {
      "image/png": "[encoded data removed]",
      "text/plain": [
       "<Figure size 500x500 with 1 Axes>"
      ]
     },
     "metadata": {},
     "output_type": "display_data"
    }
   ],
   "source": [
    "def equation_fixer(A, g2, domain_vec, M, b_functioin):\n",
    "    h = 1/M\n",
    "    if np.size(A) != len(domain_vec)**4:\n",
    "        print(\"np.size(A) != len(domain_vec)**4\")\n",
    "    if np.size(A) != len(g2)**2:\n",
    "        print(\"np.size(A) != len(g2)**2\")\n",
    "    for i in range(len(domain_vec)**2):\n",
    "        if A[i,i] != 1:\n",
    "            if A[i,i+1] == 0 or A[i, i+len(domain_vec)] == 0:\n",
    "                x_p = (i%len(domain_vec)+1)*h\n",
    "                y_p = (i//len(domain_vec)+1)*h\n",
    "                eta = 1 - x_p**2 - y_p\n",
    "                xsi = np.sqrt(1-y_p) - x_p\n",
    "                \n",
    "                A[i,i] = -(-2/(xsi*h**2) - 2/(eta*h**2))\n",
    "                A[i,i-1] =  2 / ((1+xsi)*(h**2))\n",
    "                A[i, i+1] *= ( 2 / (xsi*(1+xsi)*(h**2)) )\n",
    "                if i > len(domain_vec):\n",
    "                    A[i, i-len(domain_vec)] =  2 / ((h**2)*(1+eta))\n",
    "                if i < len(domain_vec)**2 - len(domain_vec):\n",
    "                    A[i, i+len(domain_vec)] *=  ( 2 / (eta*(h**2)*(1+eta)) )\n",
    "                \"\"\"\n",
    "                A[i,i] = 5\n",
    "                \n",
    "                A[i,i-1] = 5\n",
    "                A[i, i+1] = A[i, i+1]*5\n",
    "                if i > len(domain_vec):\n",
    "                    A[i, i-len(domain_vec)] = 5\n",
    "                if i < len(domain_vec)**2 - len(domain_vec):\n",
    "                    A[i, i+len(domain_vec)] = A[i, i+len(domain_vec)]*5\n",
    "                \"\"\"\n",
    "                if A[i+1,i+1] == 1:\n",
    "                    g2[i] += ( 2 / (xsi*(1+xsi)*(h**2)) ) * b_functioin(x_p + xsi, y_p)\n",
    "                if i < len(domain_vec)**2 - len(domain_vec):\n",
    "                    if A[i+len(domain_vec),i+len(domain_vec)] == 1:\n",
    "                        g2[i] += ( 2 / (eta*(h**2)*(1+eta)) ) * b_functioin(x_p, y_p + eta)\n",
    "                        \n",
    "                \n",
    "    return A, g2\n",
    "\n",
    "\n",
    "\n",
    "\n",
    "left = np.arange(M+1)\n",
    "top = np.zeros(M+1)\n",
    "right = np.zeros(M+1)\n",
    "bottom = np.arange(M+1)\n",
    "\n",
    "\n",
    "g2 = normal_dirichlet([left, top, right, bottom], 1, 1)\n",
    "\n",
    "def bndry_func(x,y):\n",
    "    return x+y\n",
    "\n",
    "A, g2 = equation_fixer(A, g2, [4,3,3,1], M, bndry_func)\n",
    "plt.figure(0, figsize = (5,5))\n",
    "for i in range(int(np.sqrt(np.size(A)))):\n",
    "    for j in range(int(np.sqrt(np.size(A)))):\n",
    "        if A[i,j] == 0:\n",
    "            A[i,j] = True\n",
    "        else:\n",
    "            A[i,j] = False\n",
    "plt.imshow(A)\n",
    "plt.show()"
   ]
  },
  {
   "cell_type": "code",
   "execution_count": 8,
   "metadata": {},
   "outputs": [],
   "source": [
    "for i in range(int(np.sqrt(np.size(A)))):\n",
    "    for j in range(int(np.sqrt(np.size(A)))):\n",
    "        if A[i,j] == 0:\n",
    "            A[i,j] = True\n",
    "        else:\n",
    "            A[i,j] = False"
   ]
  },
  {
   "cell_type": "code",
   "execution_count": 9,
   "metadata": {},
   "outputs": [],
   "source": [
    "def f_fixer(function_vec, domain_vec):\n",
    "    mod_f_vec = function_vec\n",
    "    for i in range(len(function_vec)):\n",
    "        if function_vec[i] > domain_vec[i//len(domain_vec)]:\n",
    "            mod_f_vec[i] = 0\n",
    "    return mod_f_vec"
   ]
  },
  {
   "cell_type": "code",
   "execution_count": 16,
   "metadata": {},
   "outputs": [
    {
     "name": "stdout",
     "output_type": "stream",
     "text": [
      "2401.0\n"
     ]
    },
    {
     "data": {
      "image/png": "[encoded data removed]",
      "text/plain": [
       "<Figure size 640x480 with 2 Axes>"
      ]
     },
     "metadata": {},
     "output_type": "display_data"
    }
   ],
   "source": [
    "M = 50\n",
    "h = 1/M\n",
    "a = 1\n",
    "\n",
    "left = np.arange(M+1)\n",
    "left = np.sin(left*5)\n",
    "top = np.zeros(M+1)\n",
    "right = np.zeros(M+1)\n",
    "bottom = np.ones(M+1)\n",
    "g2 = normal_dirichlet([left, top, right, bottom], a/h**2, 1/h**2)\n",
    "\n",
    "def bndry_func(x,y):\n",
    "    return 1500\n",
    "\n",
    "C = ndiag([1,-4,1], [-1,0,1], (M-1))\n",
    "B = 1 * np.eye(M-1)\n",
    "\n",
    "omega = domain(M-1)\n",
    "\n",
    "funtion = f_fixer(50000*np.ones((M-1)**2), omega)\n",
    "\n",
    "A = triblock_mod(C, B, M, omega)\n",
    "\n",
    "A, g2 = equation_fixer(A, g2, omega, M, bndry_func)\n",
    "\n",
    "U_vec = np.linalg.solve(A, -g2 - funtion)\n",
    "U = U_vec.reshape((M-1, M-1))[::-1]\n",
    "\n",
    "plt.title('Numerical')\n",
    "plt.imshow(U)\n",
    "plt.colorbar()\n",
    "plt.show()"
   ]
  },
  {
   "cell_type": "code",
   "execution_count": null,
   "metadata": {},
   "outputs": [],
   "source": []
  },
  {
   "cell_type": "code",
   "execution_count": null,
   "metadata": {},
   "outputs": [],
   "source": []
  },
  {
   "cell_type": "code",
   "execution_count": null,
   "metadata": {},
   "outputs": [],
   "source": []
  },
  {
   "cell_type": "code",
   "execution_count": null,
   "metadata": {},
   "outputs": [],
   "source": []
  }
 ],
 "metadata": {
  "kernelspec": {
   "display_name": "myenv.venv",
   "language": "python",
   "name": "python3"
  },
  "language_info": {
   "codemirror_mode": {
    "name": "ipython",
    "version": 3
   },
   "file_extension": ".py",
   "mimetype": "text/x-python",
   "name": "python",
   "nbconvert_exporter": "python",
   "pygments_lexer": "ipython3",
   "version": "3.9.13"
  },
  "orig_nbformat": 4,
  "vscode": {
   "interpreter": {
    "hash": "4743cdacb4e4f04bfa8ace0aa391c3df3b1bbb3ea74299775d8b8ac3466b932a"
   }
  }
 },
 "nbformat": 4,
 "nbformat_minor": 2
}
