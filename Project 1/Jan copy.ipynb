{
 "cells": [
  {
   "cell_type": "code",
   "execution_count": 1,
   "metadata": {},
   "outputs": [],
   "source": [
    "import numpy as np\n",
    "import matplotlib.pyplot as plt\n",
    "from sympy.solvers import solve\n",
    "from sympy import Symbol"
   ]
  },
  {
   "cell_type": "code",
   "execution_count": 2,
   "metadata": {},
   "outputs": [],
   "source": [
    "def im(grid, title = '', origin = 'lower'):\n",
    "    plt.imshow(grid, origin=origin)\n",
    "    plt.colorbar()\n",
    "    plt.title(title)\n",
    "    plt.show()"
   ]
  },
  {
   "cell_type": "code",
   "execution_count": 3,
   "metadata": {},
   "outputs": [
    {
     "data": {
      "text/plain": [
       "<matplotlib.image.AxesImage at 0x7fab42a89130>"
      ]
     },
     "execution_count": 3,
     "metadata": {},
     "output_type": "execute_result"
    },
    {
     "data": {
      "image/png": "[encoded data removed]",
      "text/plain": [
       "<Figure size 432x432 with 1 Axes>"
      ]
     },
     "metadata": {
      "needs_background": "light"
     },
     "output_type": "display_data"
    }
   ],
   "source": [
    "num_points = 49\n",
    "\n",
    "def bool_domain_gen(num_points):\n",
    "    x = np.linspace(0, 1, num_points)\n",
    "    y = np.linspace(0, 1, num_points)\n",
    "    x_g, y_g = np.meshgrid(x, np.sqrt(1-y))\n",
    "    y_g = y_g[::-1]\n",
    "    bool_domain = x_g < y_g\n",
    "    return bool_domain\n",
    "\n",
    "bool_domain = bool_domain_gen(num_points)\n",
    "\n",
    "plt.figure(figsize = (6,6))\n",
    "plt.imshow(bool_domain)"
   ]
  },
  {
   "cell_type": "markdown",
   "metadata": {},
   "source": []
  },
  {
   "cell_type": "code",
   "execution_count": 4,
   "metadata": {},
   "outputs": [
    {
     "name": "stdout",
     "output_type": "stream",
     "text": [
      "[0.         0.11111111 0.22222222 0.33333333 0.44444444 0.55555556\n",
      " 0.66666667 0.77777778 0.88888889 1.        ]\n"
     ]
    },
    {
     "data": {
      "text/plain": [
       "<matplotlib.image.AxesImage at 0x7fab42b7afa0>"
      ]
     },
     "execution_count": 4,
     "metadata": {},
     "output_type": "execute_result"
    },
    {
     "data": {
      "image/png": "[encoded data removed]",
      "text/plain": [
       "<Figure size 288x288 with 1 Axes>"
      ]
     },
     "metadata": {
      "needs_background": "light"
     },
     "output_type": "display_data"
    }
   ],
   "source": [
    "num_points = 10\n",
    "x = np.linspace(0, 1, num_points)\n",
    "y = np.linspace(0, 1, num_points)\n",
    "print(x)\n",
    "\n",
    "def bool_domain_gen_y(x, y, num_points):\n",
    "    x_g, y_g = np.meshgrid(x, np.sqrt(1-y))\n",
    "    y_g = y_g[::-1]\n",
    "    bool_domain = x_g < y_g\n",
    "    return bool_domain\n",
    "\n",
    "#\n",
    "#  \n",
    "#\n",
    "\n",
    "bool_domain = bool_domain_gen_y(x, y, num_points)\n",
    "\n",
    "plt.figure(figsize = (4,4))\n",
    "plt.imshow(bool_domain)"
   ]
  },
  {
   "cell_type": "code",
   "execution_count": 5,
   "metadata": {},
   "outputs": [
    {
     "data": {
      "text/plain": [
       "<matplotlib.image.AxesImage at 0x7fab3e7791c0>"
      ]
     },
     "execution_count": 5,
     "metadata": {},
     "output_type": "execute_result"
    },
    {
     "data": {
      "image/png": "[encoded data removed]",
      "text/plain": [
       "<Figure size 288x288 with 1 Axes>"
      ]
     },
     "metadata": {
      "needs_background": "light"
     },
     "output_type": "display_data"
    }
   ],
   "source": [
    "num_points = 10\n",
    "x = np.linspace(0, 1, num_points)\n",
    "y = np.linspace(0, 1, num_points)\n",
    "#print(x)\n",
    "def bool_domain_gen_x(x, y, num_points):\n",
    "    x_g, y_g = np.meshgrid(y, 1-x**2)\n",
    "    y_g = y_g[::-1]\n",
    "    bool_domain = x_g < y_g\n",
    "    return bool_domain\n",
    "\n",
    "bool_domain = bool_domain_gen_x(x, y, num_points)\n",
    "\n",
    "plt.figure(figsize = (4,4))\n",
    "plt.imshow(bool_domain)"
   ]
  },
  {
   "cell_type": "code",
   "execution_count": 6,
   "metadata": {},
   "outputs": [],
   "source": [
    "def domain2(dom_mx):\n",
    "    vec = np.zeros(len(dom_mx[0,:]))\n",
    "    for i in range(len(vec)):\n",
    "        vec[i] = np.sum(dom_mx[i])\n",
    "    vec = np.flip(vec).astype(int)\n",
    "    return vec\n",
    "\n",
    "#print(domain2(bool_domain))"
   ]
  },
  {
   "cell_type": "code",
   "execution_count": 7,
   "metadata": {},
   "outputs": [
    {
     "name": "stdout",
     "output_type": "stream",
     "text": [
      "50\n",
      "50\n",
      "[[0.0199840382775688, 0.999600638214121], [0.0398732132984429, 0.998410126861257], [0.0595770710243609, 0.996450572608158], [0.0790134194113592, 0.993756879552925], [0.0981112008863785, 0.990374192260633], [0.116812175985778, 0.986354915541468], [0.140103926248326, 0.980370889849804], [0.158388573582499, 0.974913059758501], [0.176119066467251, 0.968982074426704], [0.200000000000000, 0.960000000000000], [0.216936275160024, 0.952938652519694], [0.233273911661972, 0.945583282137922], [0.256914441902510, 0.933994969541922], [0.272296517314178, 0.925854606658569], [0.295627355928210, 0.912604466426896], [0.318912423326231, 0.898294866248191], [0.332827934693703, 0.889225565887524], [0.355476052548091, 0.873636776064827], [0.377885669697796, 0.857202420637048], [0.400000000000000, 0.840000000000000], [0.411982892352458, 0.830270096408903], [0.433291402024652, 0.812258560931511], [0.454243105544974, 0.793663201064858], [0.474820330769775, 0.774545653487681], [0.495012687245648, 0.754962439465842], [0.514815649213423, 0.734964847324962], [0.534229306453061, 0.714599048126681], [0.553257299270852, 0.693906360803523], [0.581781110547693, 0.661530739409893], [0.600000000000000, 0.640000000000000], [0.617850626049411, 0.618260603890351], [0.635345046027289, 0.596336672488581], [0.662118164317276, 0.561599536481121], [0.678854628134879, 0.539156393859855], [0.695270559605862, 0.516598848945352], [0.720749599970395, 0.480520014142516], [0.736473947137053, 0.457606125188369], [0.761101906034075, 0.420723888631298], [0.785267954296167, 0.383354239955512], [0.800000000000000, 0.360000000000000], [0.823376828967113, 0.322050597520062], [0.837537948374758, 0.298530185032201], [0.860173803345025, 0.260101028038955], [0.882404426174224, 0.221362428668138], [0.904242336782541, 0.182345796370050], [0.925700317721622, 0.143078921770089], [0.946791197512877, 0.103586428312133], [0.967527690551798, 0.0638901680155040]] X\n",
      "[[0.991987262929901, 0.0159612701848443], [0.979838064971404, 0.0399173664330948], [0.971728417937360, 0.0557438817729556], [0.959344405683437, 0.0796583112838938], [0.951136000268108, 0.0953403089939855], [0.938507009640171, 0.119204592856264], [0.930198187857612, 0.134731331306416], [0.917313614672716, 0.158535732336076], [0.908902978276362, 0.173895376080359], [0.895751807222856, 0.197628699856987], [0.887238304188392, 0.212808191580907], [0.873809158227877, 0.236457554997090], [0.865192190325649, 0.251442473799505], [0.851473407410206, 0.274993036473254], [0.837537948374758, 0.298530185032201], [0.828732709510037, 0.313202096188152], [0.814484893061899, 0.336614358973947], [0.800000000000000, 0.360000000000000], [0.791003602057099, 0.374313301532695], [0.776182444415914, 0.397540812980537], [0.767084469920401, 0.411581416006937], [0.751915048419796, 0.434623759959855], [0.736473947137053, 0.457606125188369], [0.727191198101937, 0.471192961403070], [0.711378660898013, 0.493940400818950], [0.695270559605862, 0.516598848945352], [0.678854628134879, 0.539156393859855], [0.669314748337523, 0.552017767657879], [0.652495613865965, 0.574249473885677], [0.635345046027289, 0.596336672488581], [0.617850626049411, 0.618260603890351], [0.600000000000000, 0.640000000000000], [0.590183459619838, 0.651683483991160], [0.571905933455223, 0.672923603278710], [0.553257299270852, 0.693906360803523], [0.534229306453061, 0.714599048126681], [0.514815649213423, 0.734964847324962], [0.495012687245648, 0.754962439465842], [0.474820330769775, 0.774545653487681], [0.454243105544974, 0.793663201064858], [0.421775813674103, 0.822105162999549], [0.400000000000000, 0.840000000000000], [0.377885669697796, 0.857202420637048], [0.342052414284422, 0.883000145882198], [0.318912423326231, 0.898294866248191], [0.280683161850832, 0.921216962653419], [0.224339524112269, 0.949671777921080], [0.182449292584639, 0.966712255635365]] Y\n"
     ]
    },
    {
     "data": {
      "image/png": "[encoded data removed]",
      "text/plain": [
       "<Figure size 432x432 with 1 Axes>"
      ]
     },
     "metadata": {
      "needs_background": "light"
     },
     "output_type": "display_data"
    }
   ],
   "source": [
    "#\n",
    "#\n",
    "def projection_y(M): \n",
    "#\n",
    "#   Written by Jan Haakon Melka Trabski, 2023\n",
    "# \n",
    "  solution_list_y = []\n",
    "  boundary_point_y = []\n",
    "#\n",
    "  x = np.linspace(0,1,M+1)\n",
    "  y = np.linspace(0,1,M+1)\n",
    "#\n",
    "  x_current = np.linspace(0,1,M)\n",
    "  y_current = np.linspace(0,1,M)\n",
    "  \n",
    "  print(len(x_current))\n",
    "#\n",
    "  P = domain2(bool_domain_gen_y(x_current, y_current, M))\n",
    "  for i in range(1,len(P)-1):\n",
    "#    \n",
    "# Need to evaluate point on the spare matrix    \n",
    "#     \n",
    "      r = Symbol('r')\n",
    "#      \n",
    "      x_p = x[P[i]+1]\n",
    "      y_p = y[i]\n",
    "#\n",
    "      solution = solve(x_p + r*(1-2*y_p) - 2*r**3, r)\n",
    "#      \n",
    "      y_1 = 1 - solution[0]**2\n",
    "#      \n",
    "      solution_list_y.append([solution[0],y_1])    \n",
    "      boundary_point_y.append([(x_p*M-2).astype(int)  ,(y_p*M).astype(int)]) \n",
    "#\n",
    "#\n",
    "#\n",
    "  return solution_list_y, boundary_point_y\n",
    "\n",
    "def projection_x(M): \n",
    "#\n",
    "#   Written by Jan Haakon Melka Trabski, 2023\n",
    "# \n",
    "  solution_list_x = []\n",
    "  boundary_point_x = []\n",
    "#\n",
    "  x = np.linspace(0,1,M+1)\n",
    "  y = np.linspace(0,1,M+1)\n",
    "#\n",
    "  x_current = np.linspace(0,1,M)\n",
    "  y_current = np.linspace(0,1,M)\n",
    "# \n",
    "  print(len(x_current))\n",
    "#\n",
    "  P = domain2(bool_domain_gen_x(x_current, y_current, M))\n",
    "  for i in range(1,len(P)-1):\n",
    "#    \n",
    "# Need to evaluate point on the spare matrix    \n",
    "#     \n",
    "      r = Symbol('r')\n",
    "#      \n",
    "      x_p = x[i]\n",
    "      y_p = y[P[i]+1]\n",
    "#\n",
    "      solution = solve(x_p + r*(1-2*y_p) - 2*r**3, r)\n",
    "#      \n",
    "      y_1 = 1 - solution[0]**2\n",
    "#      \n",
    "      solution_list_x.append(([solution[0],y_1]))    \n",
    "      boundary_point_x.append([(x_p*M).astype(int), (y_p*M-2).astype(int)]) \n",
    "#\n",
    "  return solution_list_x, boundary_point_x\n",
    "#\n",
    "# Test\n",
    "#\n",
    "B = (projection_y(50))[0] # This is the boundary of Y\n",
    "A = (projection_x(50))[0] # This is the boundary of X\n",
    "#\n",
    "print(A, \"X\")\n",
    "print(B, \"Y\")\n",
    "#\n",
    "x  = []\n",
    "y =  []\n",
    "#\n",
    "z =  []\n",
    "w =  []\n",
    "#\n",
    "x_1  = np.linspace(0,1,100)\n",
    "y_1 = 1-x_1**2\n",
    "#\n",
    "for i in B: \n",
    "  x.append(i[1])\n",
    "  y.append(i[0]) \n",
    "# \n",
    "for i in A: \n",
    "  z.append(i[1])\n",
    "  w.append(i[0])     \n",
    "#\n",
    "plt.figure(figsize = (6,6))\n",
    "plt.scatter(y, x)\n",
    "plt.scatter(w, z)\n",
    "plt.plot(x_1,y_1)\n",
    "plt.show()"
   ]
  },
  {
   "cell_type": "code",
   "execution_count": 17,
   "metadata": {},
   "outputs": [
    {
     "name": "stdout",
     "output_type": "stream",
     "text": [
      "20\n",
      "20\n",
      "20\n",
      "20\n",
      "20\n",
      "20\n",
      "ah:3\n"
     ]
    },
    {
     "data": {
      "image/png": "[encoded data removed]",
      "text/plain": [
       "<Figure size 360x360 with 1 Axes>"
      ]
     },
     "metadata": {
      "needs_background": "light"
     },
     "output_type": "display_data"
    },
    {
     "name": "stdout",
     "output_type": "stream",
     "text": [
      "361\n"
     ]
    }
   ],
   "source": [
    "def normal_dirichlet(boundaries, alpha = 1, beta = 1):\n",
    "    \"\"\" Create a one-dimensional vector for Dirichlet conditions. Uses natural ordering.\n",
    "\n",
    "    Args:\n",
    "        G (array(4 x M-1)): Matrix with row vectors corresponding respectively to boundary at x = x0, y = y0, x = xend, y = yend\n",
    "        alpha, beta (floats): Constants as defined in text. Optional arguments. \n",
    "\n",
    "    Returns:\n",
    "        g (array(M-1)^2): One dimensional array meant for use in linear system, using natural ordering\n",
    "    \"\"\"\n",
    "    l, t, r, b = boundaries\n",
    "    M = l.shape[0] - 1         # l is M+1\n",
    "    G = np.zeros((M-1, M-1))\n",
    "    G[0, 1:] += beta * b[2:M]\n",
    "    G[-1, :-1] += beta * t[2: M]\n",
    "    G[:, 0] += alpha * l[1:M]\n",
    "    G[:, -1] += alpha * r[1:M]\n",
    "    \"\"\"plt.imshow(G)\n",
    "    plt.show()\"\"\"\n",
    "    return G.flatten()\n",
    "#\n",
    "#   New boundrady condtions\n",
    "#\n",
    "\n",
    "def f(x, y):\n",
    "    a = 0\n",
    "    return np.sin(np.pi * x) * np.cos(np.pi * y)\n",
    "    \n",
    "\n",
    "def normal_dirichlet_paranolic_y(M):\n",
    "#    \n",
    "#   Written by Jan Haakon Melka Trabski, 2023\n",
    "#\n",
    "    B = (projection_y(M))[1]# This is the boundary of Y\n",
    "    D = (projection_y(M))[0] \n",
    "#\n",
    "    G = np.zeros((M-1, M-1))\n",
    "# \n",
    "    j = 0\n",
    "#\n",
    "    for i in B:\n",
    "#\n",
    "        G[i[1]-1][i[0]-1] = f(float(D[j][0]),float(D[j][1]))\n",
    "        j += 1\n",
    "#   \n",
    "    return (G) \n",
    "#\n",
    "#\n",
    "def normal_dirichlet_paranolic_x(M):\n",
    "#    \n",
    "    A = (projection_x(M)[1])# This is the boundary of X This is wrong!     \n",
    "    C = (projection_x(M))[0] \n",
    "#    \n",
    "    G = np.zeros((M-1, M-1))\n",
    "# \n",
    "    j = 0\n",
    "#\n",
    "    for i in A:\n",
    "#\n",
    "        G[i[1]-1][i[0]-1] = f(float(C[j][0]),float(C[j][1]))\n",
    "        j += 1    \n",
    "#        \n",
    "    return (G) \n",
    "\n",
    "def checker(G): \n",
    "    for i in range(len(G[0])):\n",
    "        for j in range(len(G[0])):\n",
    "            if (G[i][j] > 1): \n",
    "                G[i][j] = 1 \n",
    "                    \n",
    "                    \n",
    "    return G  \n",
    "\n",
    "#\n",
    "# Testing\n",
    "# \n",
    "M = 20\n",
    "#\n",
    "B = (projection_y(M)[1])# This is the boundary of Y\n",
    "#\n",
    "A = (projection_y(M)[1])# This is the boundary of X \n",
    "#\n",
    "#print(B, \"Y\")\n",
    "#print(A, \"X\")\n",
    "\n",
    "l = np.arange(M+1)\n",
    "t = np.zeros(M+1)\n",
    "r = np.zeros(M+1)\n",
    "b = np.arange(M+1)\n",
    "\n",
    "g5 = (normal_dirichlet([l, t, r, b], 1, 1))\n",
    "\n",
    "\n",
    "G = np.flip(g5.reshape((M-1,M-1)), 0)\n",
    "g3 = normal_dirichlet_paranolic_y(M)\n",
    "g4 = normal_dirichlet_paranolic_x(M)\n",
    "\n",
    "A  = (np.flip(g5.reshape((M-1,M-1)), 0))\n",
    "#print(g3)\n",
    "#print(g4)\n",
    "\n",
    "\n",
    "print(\"ah:\"+str(len([3,2,1])))\n",
    "plt.figure(0, figsize = (5,5))\n",
    "plt.imshow(A+g4+g3)\n",
    "plt.show()\n",
    "\n",
    "print(np.size(A))"
   ]
  },
  {
   "cell_type": "code",
   "execution_count": 9,
   "metadata": {},
   "outputs": [
    {
     "name": "stdout",
     "output_type": "stream",
     "text": [
      "16.0\n",
      "ah:3\n"
     ]
    },
    {
     "data": {
      "image/png": "[encoded data removed]",
      "text/plain": [
       "<Figure size 360x360 with 1 Axes>"
      ]
     },
     "metadata": {
      "needs_background": "light"
     },
     "output_type": "display_data"
    }
   ],
   "source": [
    "def ndiag(consts, offsets, N):\n",
    "    \"\"\"Generate a matrix with arbitrary number of constant diagonals, 0 elsewhere\n",
    "\n",
    "    Args:\n",
    "        consts (list of floats):    list containing floats on diagonal\n",
    "        offsets (list of ints):     list of offsets. Corresponds to the consts list\n",
    "        N (int):                    length of array\n",
    "\n",
    "    Returns:\n",
    "        A (N x N matrix):           matrix with diagonals as specified\n",
    "    \"\"\"\n",
    "    diags = []\n",
    "    for i in range(len(consts)):\n",
    "        diags.append(consts[i] * np.ones(N - np.abs(offsets[i])))\n",
    "\n",
    "    A = np.zeros((N,N))\n",
    "    for i in range(len(diags)):\n",
    "        A += np.diag(diags[i], offsets[i])\n",
    "    return A\n",
    "\n",
    "def triblock_mod(C, B, M, zerolist):\n",
    "    A = np.kron(np.eye(M-1), C)\n",
    "    A += np.kron(ndiag([1,1], [-1, 1], M-1), B)\n",
    "    if np.size(A) != len(zerolist)**4:\n",
    "        print(\"np.size(A) != len(zerolist)\")\n",
    "    for i in range(len(zerolist)):\n",
    "        A[(i*(len(zerolist))+zerolist[i]):(i+1)*(len(zerolist)), :] = 0\n",
    "    print(np.sqrt(np.size(A)))\n",
    "    for i in range(len(zerolist)**2):\n",
    "        if A[i,i] != 0:\n",
    "            if A[i+1,i+1] == 0:\n",
    "                A[i,i+1] = 0\n",
    "            if i < len(zerolist)**2 - len(zerolist):\n",
    "                if A[i+len(zerolist),i+len(zerolist)] == 0:\n",
    "                    A[i, i+len(zerolist)] = 0\n",
    "    return A\n",
    "\n",
    "# Testing\n",
    "M = 5\n",
    "C = ndiag([1,-2,1], [-1,0,1], (M-1))\n",
    "B = 3 * np.eye(M-1)\n",
    "A = triblock_mod(C, B, M, [4,3,3,1])\n",
    "print(\"ah:\"+str(len([3,2,1])))\n",
    "plt.figure(0, figsize = (5,5))\n",
    "plt.imshow(A)\n",
    "plt.show()"
   ]
  },
  {
   "cell_type": "code",
   "execution_count": 10,
   "metadata": {},
   "outputs": [
    {
     "name": "stdout",
     "output_type": "stream",
     "text": [
      "16.0\n",
      "ah:3\n"
     ]
    },
    {
     "data": {
      "image/png": "[encoded data removed]",
      "text/plain": [
       "<Figure size 360x360 with 1 Axes>"
      ]
     },
     "metadata": {
      "needs_background": "light"
     },
     "output_type": "display_data"
    }
   ],
   "source": [
    "def ndiag(consts, offsets, N):\n",
    "    \"\"\"Generate a matrix with arbitrary number of constant diagonals, 0 elsewhere\n",
    "\n",
    "    Args:\n",
    "        consts (list of floats):    list containing floats on diagonal\n",
    "        offsets (list of ints):     list of offsets. Corresponds to the consts list\n",
    "        N (int):                    length of array\n",
    "\n",
    "    Returns:\n",
    "        A (N x N matrix):           matrix with diagonals as specified\n",
    "    \"\"\"\n",
    "    diags = []\n",
    "    for i in range(len(consts)):\n",
    "        diags.append(consts[i] * np.ones(N - np.abs(offsets[i])))\n",
    "\n",
    "    A = np.zeros((N,N))\n",
    "    for i in range(len(diags)):\n",
    "        A += np.diag(diags[i], offsets[i])\n",
    "    return A\n",
    "\n",
    "def triblock_mod(C, B, M, domain_vec):\n",
    "    A = np.kron(np.eye(M-1), C)\n",
    "    A += np.kron(ndiag([1,1], [-1, 1], M-1), B)\n",
    "    if np.size(A) != len(domain_vec)**4:\n",
    "        print(\"np.size(A) != len(domain_vec)**4\")\n",
    "        print(np.size(A))\n",
    "        print(len(domain_vec)**4)\n",
    "    for i in range(len(domain_vec)):\n",
    "        A[(i*(len(domain_vec))+domain_vec[i]):(i+1)*(len(domain_vec)), :] = 0\n",
    "    print(np.sqrt(np.size(A)))\n",
    "    for i in range(len(domain_vec)**2):\n",
    "        if A[i,i] == 0:\n",
    "            A[i,i] = 1\n",
    "    for i in range(len(domain_vec)**2):\n",
    "        if A[i,i] != 1:\n",
    "            if A[i+1,i+1] == 1:\n",
    "                A[i,i+1] = 0\n",
    "            if i < len(domain_vec)**2 - len(domain_vec):\n",
    "                if A[i+len(domain_vec),i+len(domain_vec)] == 1:\n",
    "                    A[i, i+len(domain_vec)] = 0\n",
    "        \n",
    "    return A\n",
    "\n",
    "# Testing\n",
    "M = 5\n",
    "C = ndiag([1,-4,1], [-1,0,1], (M-1))\n",
    "B = 1 * np.eye(M-1)\n",
    "\n",
    "\n",
    "A = triblock_mod(C, B, M, [4,3,3,1])\n",
    "\n",
    "\n",
    "\n",
    "print(\"ah:\"+str(len([3,2,1])))\n",
    "plt.figure(0, figsize = (5,5))\n",
    "plt.imshow(A)\n",
    "plt.show()"
   ]
  },
  {
   "cell_type": "code",
   "execution_count": 11,
   "metadata": {},
   "outputs": [
    {
     "data": {
      "image/png": "[encoded data removed]",
      "text/plain": [
       "<Figure size 360x360 with 1 Axes>"
      ]
     },
     "metadata": {
      "needs_background": "light"
     },
     "output_type": "display_data"
    }
   ],
   "source": [
    "def equation_fixer(A, g2, domain_vec, M, b_function):\n",
    "    h = 1/M\n",
    "    if np.size(A) != len(domain_vec)**4:\n",
    "        print(\"np.size(A) != len(domain_vec)**4\")\n",
    "    if np.size(A) != len(g2)**2:\n",
    "        print(\"np.size(A) != len(g2)**2\")\n",
    "    for i in range(len(domain_vec)**2-1):\n",
    "        if A[i,i] != 1:\n",
    "            if A[i,i+1] == 0 or A[i, i+len(domain_vec)] == 0:\n",
    "                x_p = (i%len(domain_vec)+1)*h\n",
    "                y_p = (i//len(domain_vec)+1)*h\n",
    "                eta = (1 - x_p**2 - y_p)/h\n",
    "                xsi = (np.sqrt(1-y_p) - x_p)/h\n",
    "                \n",
    "                A[i,i] = -(-2/xsi - 2/eta)\n",
    "                if i > 0:\n",
    "                    A[i,i-1] *=  2 / ((1+xsi))\n",
    "                A[i, i+1] *= ( 2 / (xsi*(1+xsi)) )\n",
    "                if i > len(domain_vec):\n",
    "                    A[i, i-len(domain_vec)] =  2 / ((1+eta))\n",
    "                if i < len(domain_vec)**2 - len(domain_vec):\n",
    "                    A[i, i+len(domain_vec)] *=  ( 2 / (eta*(1+eta)) )\n",
    "                \"\"\"\n",
    "                A[i,i] = 5\n",
    "                \n",
    "                A[i,i-1] = 5\n",
    "                A[i, i+1] = A[i, i+1]*5\n",
    "                if i > len(domain_vec):\n",
    "                    A[i, i-len(domain_vec)] = 5\n",
    "                if i < len(domain_vec)**2 - len(domain_vec):\n",
    "                    A[i, i+len(domain_vec)] = A[i, i+len(domain_vec)]*5\n",
    "                \"\"\"\n",
    "                \n",
    "                \"\"\"\n",
    "                if A[i+1,i+1] == 1:\n",
    "                    g2[i] += ( 2 / (xsi*(1+xsi)*(h**2)) ) * b_function(x_p + xsi, y_p)\n",
    "                if i < len(domain_vec)**2 - len(domain_vec):\n",
    "                    if A[i+len(domain_vec),i+len(domain_vec)] == 1:\n",
    "                        g2[i] += ( 2 / (eta*(h**2)*(1+eta)) ) * b_function(x_p, y_p + eta)\n",
    "                \"\"\"      \n",
    "                \n",
    "                if A[i,i+1] == 0 and (i%len(domain_vec)+1) <len(domain_vec)+1:\n",
    "                    g2[i] += ( 2 / (xsi*(1+xsi)) ) * b_function(x_p + xsi, y_p)\n",
    "                if i < len(domain_vec)**2 - len(domain_vec):\n",
    "                    if A[i, i+len(domain_vec)] == 0:\n",
    "                        g2[i] += ( 2 / (eta*(1+eta)) ) * b_function(x_p, y_p + eta)\n",
    "                \n",
    "    return A, g2\n",
    "\n",
    "\n",
    "\n",
    "\n",
    "left = np.arange(M+1)\n",
    "top = np.zeros(M+1)\n",
    "right = np.zeros(M+1)\n",
    "bottom = np.arange(M+1)\n",
    "\n",
    "\n",
    "g2 = normal_dirichlet([left, top, right, bottom], 1, 1)\n",
    "\n",
    "def bndry_func(x,y):\n",
    "    return x+y\n",
    "\n",
    "A, g2 = equation_fixer(A, g2, [4,3,3,1], M, bndry_func)\n",
    "plt.figure(0, figsize = (5,5))\n",
    "for i in range(int(np.sqrt(np.size(A)))):\n",
    "    for j in range(int(np.sqrt(np.size(A)))):\n",
    "        if A[i,j] == 0:\n",
    "            A[i,j] = True\n",
    "        else:\n",
    "            A[i,j] = False\n",
    "plt.imshow(A)\n",
    "plt.show()"
   ]
  },
  {
   "cell_type": "code",
   "execution_count": 12,
   "metadata": {},
   "outputs": [],
   "source": [
    "for i in range(int(np.sqrt(np.size(A)))):\n",
    "    for j in range(int(np.sqrt(np.size(A)))):\n",
    "        if A[i,j] == 0:\n",
    "            A[i,j] = True\n",
    "        else:\n",
    "            A[i,j] = False"
   ]
  },
  {
   "cell_type": "code",
   "execution_count": 13,
   "metadata": {},
   "outputs": [],
   "source": [
    "def hyper_f_fixer(function_vec, domain_vec):\n",
    "    mod_f_vec = function_vec\n",
    "    for i in range(len(function_vec)):\n",
    "        if function_vec[i] > domain_vec[i//len(domain_vec)]:\n",
    "            mod_f_vec[i] = 0\n",
    "    return mod_f_vec"
   ]
  },
  {
   "cell_type": "code",
   "execution_count": 16,
   "metadata": {},
   "outputs": [
    {
     "name": "stdout",
     "output_type": "stream",
     "text": [
      "[0. 0. 0. ... 1. 1. 0.]\n",
      "40\n",
      "40\n",
      "40\n",
      "40\n",
      "1521.0\n"
     ]
    },
    {
     "data": {
      "image/png": "[encoded data removed]",
      "text/plain": [
       "<Figure size 432x288 with 2 Axes>"
      ]
     },
     "metadata": {
      "needs_background": "light"
     },
     "output_type": "display_data"
    }
   ],
   "source": [
    "M = 40\n",
    "h = 1/M\n",
    "a = 0.1\n",
    "\n",
    "left = np.ones(M+1)\n",
    "left = np.arange(M+1)\n",
    "left = np.sin(left*5)\n",
    "top = np.zeros(M+1)\n",
    "right = np.zeros(M+1)\n",
    "bottom = np.ones(M+1)\n",
    "#g2 = normal_dirichlet([left, top, right, bottom], a, 1)\n",
    "\n",
    "\n",
    "g2 = normal_dirichlet([left, bottom, right, top], 0, 1)\n",
    "\n",
    "print(g2)\n",
    "\n",
    "#print(np.size(g2))\n",
    "\n",
    "g3 = normal_dirichlet_paranolic_y(M) \n",
    "g4 = normal_dirichlet_paranolic_x(M)\n",
    "A  = (np.flip(g2.reshape((M-1,M-1)), 0))\n",
    "\n",
    "g2 = (g3+g4+A).flatten()\n",
    "\n",
    "def hyper_bndry_func(x,y):\n",
    "    return np.sin(np.pi * x) * np.cos(np.pi * y)\n",
    "\n",
    "C = ndiag([1,-4,1], [-1,0,1], (M-1))\n",
    "B = 1 * np.eye(M-1)\n",
    "\n",
    "\n",
    "def u_exact(x, y):\n",
    "    return np.sin(np.pi * x) * np.cos(np.pi * y)\n",
    "\n",
    "\"\"\"\n",
    "def f(x, y):\n",
    "    return np.pi**2 * ((a+1+r**2) * np.sin(np.pi * x) * np.cos(np.pi * y) + 2*r * np.cos(np.pi * x) * np.sin(np.pi * y))\n",
    "\"\"\"\n",
    "\n",
    "def f(x, y):\n",
    "    return np.pi**2 * ((a+2) * np.sin(np.pi * x) * np.cos(np.pi * y) + 2 * np.cos(np.pi * x) * np.sin(np.pi * y))\n",
    "\n",
    "\n",
    "x = np.linspace(0, 1, M+1)\n",
    "y = np.linspace(0, 1, M+1)\n",
    "xx, yy = np.meshgrid(x, y)\n",
    "fmat = f(xx, yy)[1:-1, 1:-1]\n",
    "fvec = fmat.flatten()\n",
    "U_exact = u_exact(xx, yy)\n",
    "b = U_exact[0, :]\n",
    "t = U_exact[-1, :]\n",
    "l = U_exact[:, 0]\n",
    "r = U_exact[:, -1]\n",
    "boundaries = [l,t,r,b]\n",
    "\n",
    "omega = domain2(bool_domain_gen(M-1))\n",
    "\n",
    "#hyper_funtion = hyper_f_fixer(np.ones((M-1)**2), omega)\n",
    "\n",
    "A = triblock_mod(C, B, M, omega)\n",
    "\n",
    "#A, g2 = equation_fixer(A, g2, omega, M, hyper_bndry_func)\n",
    "\n",
    "U_vec = np.linalg.solve(A, -g2 - fvec*h**2)\n",
    "U = U_vec.reshape((M-1, M-1))[::-1]\n",
    "\n",
    "plt.title('Numerical')\n",
    "plt.imshow(U)\n",
    "plt.colorbar()\n",
    "plt.show()"
   ]
  },
  {
   "cell_type": "code",
   "execution_count": 15,
   "metadata": {},
   "outputs": [
    {
     "name": "stdout",
     "output_type": "stream",
     "text": [
      "50\n",
      "50\n",
      "50\n",
      "50\n",
      "2401.0\n"
     ]
    },
    {
     "data": {
      "image/png": "[encoded data removed]",
      "text/plain": [
       "<Figure size 432x288 with 2 Axes>"
      ]
     },
     "metadata": {
      "needs_background": "light"
     },
     "output_type": "display_data"
    }
   ],
   "source": [
    "M = 50\n",
    "h = 1/M\n",
    "a = 0\n",
    "\n",
    "\n",
    "def hyper_bndry_func(x,y):\n",
    "    return np.sin(np.pi * x) * np.cos(np.pi * y)\n",
    "\n",
    "C = ndiag([1,-4,1], [-1,0,1], (M-1))\n",
    "B = 1 * np.eye(M-1)\n",
    "\n",
    "def u_exact(x, y):\n",
    "    return np.sin(np.pi * x) * np.cos(np.pi * y)\n",
    "\n",
    "\"\"\"\n",
    "def f(x, y):\n",
    "    return np.pi**2 * ((a+1+r**2) * np.sin(np.pi * x) * np.cos(np.pi * y) + 2*r * np.cos(np.pi * x) * np.sin(np.pi * y))\n",
    "\"\"\"\n",
    "\n",
    "def f(x, y):\n",
    "    return np.pi**2 * (2) * np.sin(np.pi * x) * np.cos(np.pi * y) \n",
    "\n",
    "x = np.linspace(0, 1, M+1)\n",
    "y = np.linspace(0, 1, M+1)\n",
    "xx, yy = np.meshgrid(x, y)\n",
    "fmat = f(xx, yy)[1:-1, 1:-1]\n",
    "fvec = fmat.flatten()\n",
    "U_exact = u_exact(xx, yy)\n",
    "\n",
    "left = np.ones(M+1)\n",
    "left = np.arange(M+1)\n",
    "left = np.sin(left*5)\n",
    "top = np.zeros(M+1)\n",
    "right = np.zeros(M+1)\n",
    "bottom = np.ones(M+1)\n",
    "\n",
    "l = np.arange(M+1)\n",
    "t = np.arange(M+1)\n",
    "r = np.zeros(M+1)\n",
    "b = np.zeros(M+1)\n",
    "\n",
    "g2 = normal_dirichlet([left, top, right, bottom], a, 1)\n",
    "\n",
    "#g2 = normal_dirichlet([l, t, r, b], 0, 1)\n",
    "\n",
    "g3 = normal_dirichlet_paranolic_y(M) \n",
    "g4 = normal_dirichlet_paranolic_x(M)\n",
    "A  = (np.flip(g2.reshape((M-1,M-1)), 0))\n",
    "\n",
    "g2 = (g3+g4+A).flatten()\n",
    "\n",
    "omega = domain2(bool_domain_gen(M-1))\n",
    "\n",
    "hyper_funtion = hyper_f_fixer(fvec, omega)\n",
    "\n",
    "A = triblock_mod(C, B, M, omega)\n",
    "\n",
    "#A, g2, used, indexes_used = equation_fixer(A, g2, omega, M, hyper_bndry_func, hyper_funtion)\n",
    "#G = g2.reshape((M-1,M-1))\n",
    "U_vec = np.linalg.solve(A, -g2 - hyper_funtion*h**2)\n",
    "U = U_vec.reshape((M-1, M-1))\n",
    "#im(used[0].reshape((M-1,M-1)))\n",
    "#im(used[1].reshape((M-1,M-1)))\n",
    "im(U, 'Numerical')"
   ]
  },
  {
   "cell_type": "code",
   "execution_count": null,
   "metadata": {},
   "outputs": [],
   "source": []
  },
  {
   "cell_type": "code",
   "execution_count": null,
   "metadata": {},
   "outputs": [],
   "source": []
  }
 ],
 "metadata": {
  "kernelspec": {
   "display_name": "base",
   "language": "python",
   "name": "python3"
  },
  "language_info": {
   "codemirror_mode": {
    "name": "ipython",
    "version": 3
   },
   "file_extension": ".py",
   "mimetype": "text/x-python",
   "name": "python",
   "nbconvert_exporter": "python",
   "pygments_lexer": "ipython3",
   "version": "3.8.3"
  },
  "orig_nbformat": 4,
  "vscode": {
   "interpreter": {
    "hash": "6c316e93d24558c110aa6e5084d987425c692a1c5fe270bdb5157dd4452fa664"
   }
  }
 },
 "nbformat": 4,
 "nbformat_minor": 2
}
