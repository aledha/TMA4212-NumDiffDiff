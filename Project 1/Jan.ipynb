{
 "cells": [
  {
   "cell_type": "code",
   "execution_count": 33,
   "metadata": {},
   "outputs": [],
   "source": [
    "import numpy as np\n",
    "import matplotlib.pyplot as plt\n",
    "from sympy.solvers import solve\n",
    "from sympy import Symbol"
   ]
  },
  {
   "cell_type": "markdown",
   "metadata": {},
   "source": []
  },
  {
   "cell_type": "code",
   "execution_count": 99,
   "metadata": {},
   "outputs": [
    {
     "name": "stdout",
     "output_type": "stream",
     "text": [
      "[0.         0.01449275 0.02898551 0.04347826 0.05797101 0.07246377\n",
      " 0.08695652 0.10144928 0.11594203 0.13043478 0.14492754 0.15942029\n",
      " 0.17391304 0.1884058  0.20289855 0.2173913  0.23188406 0.24637681\n",
      " 0.26086957 0.27536232 0.28985507 0.30434783 0.31884058 0.33333333\n",
      " 0.34782609 0.36231884 0.37681159 0.39130435 0.4057971  0.42028986\n",
      " 0.43478261 0.44927536 0.46376812 0.47826087 0.49275362 0.50724638\n",
      " 0.52173913 0.53623188 0.55072464 0.56521739 0.57971014 0.5942029\n",
      " 0.60869565 0.62318841 0.63768116 0.65217391 0.66666667 0.68115942\n",
      " 0.69565217 0.71014493 0.72463768 0.73913043 0.75362319 0.76811594\n",
      " 0.7826087  0.79710145 0.8115942  0.82608696 0.84057971 0.85507246\n",
      " 0.86956522 0.88405797 0.89855072 0.91304348 0.92753623 0.94202899\n",
      " 0.95652174 0.97101449 0.98550725 1.        ]\n"
     ]
    },
    {
     "data": {
      "text/plain": [
       "<matplotlib.image.AxesImage at 0x7f8a80289250>"
      ]
     },
     "execution_count": 99,
     "metadata": {},
     "output_type": "execute_result"
    },
    {
     "data": {
      "image/png": "[encoded data removed]",
      "text/plain": [
       "<Figure size 288x288 with 1 Axes>"
      ]
     },
     "metadata": {
      "needs_background": "light"
     },
     "output_type": "display_data"
    }
   ],
   "source": [
    "num_points = 70\n",
    "x = np.linspace(0, 1, num_points)\n",
    "y = np.linspace(0, 1, num_points)\n",
    "print(x)\n",
    "def bool_domain_gen(x, y, num_points):\n",
    "    x_g, y_g = np.meshgrid(x, np.sqrt(1-y))\n",
    "    y_g = y_g[::-1]\n",
    "    bool_domain = x_g < y_g\n",
    "    return bool_domain\n",
    "\n",
    "bool_domain = bool_domain_gen(x, y, num_points)\n",
    "\n",
    "plt.figure(figsize = (4,4))\n",
    "plt.imshow(bool_domain)"
   ]
  },
  {
   "cell_type": "code",
   "execution_count": 192,
   "metadata": {},
   "outputs": [
    {
     "name": "stdout",
     "output_type": "stream",
     "text": [
      "[12 12 11 11 10 10  9  8  8  7  6  5  3  0]\n",
      "[12 12 12 12 11 11 10  9  8  6  5  3  1  0]\n"
     ]
    },
    {
     "data": {
      "image/png": "[encoded data removed]",
      "text/plain": [
       "<Figure size 432x432 with 1 Axes>"
      ]
     },
     "metadata": {
      "needs_background": "light"
     },
     "output_type": "display_data"
    }
   ],
   "source": [
    "from math import floor\n",
    "#\n",
    "def domainY(M):\n",
    "#\n",
    "#   Written by Jan Haakon Melka Trabski, 2023\n",
    "#   \n",
    "    h = 1/M\n",
    "#\n",
    "    y = np.linspace(0,1,M+1)\n",
    "#\n",
    "    Y = (np.sqrt(1-y)//h).astype(int)  \n",
    "#      \n",
    "    return Y\n",
    "#\n",
    "#\n",
    "def domainX(M): \n",
    "#\n",
    "#   Written by Jan Haakon Melka Trabski, 2023\n",
    "#    \n",
    "    h = 1/M\n",
    "#  \n",
    "    x = np.linspace(0,1,M+1)  \n",
    "#  \n",
    "    X = ((1-x**2)//h).astype(int)  \n",
    "#      \n",
    "    return (X)\n",
    "#\n",
    "#\n",
    "def projection(M, domain): \n",
    "#\n",
    "#   Written by Jan Haakon Melka Trabski, 2023\n",
    "# \n",
    "  solution_list = []\n",
    "#\n",
    "  x = np.linspace(0,1,M+1)\n",
    "  y = np.linspace(0,1,M+1)\n",
    "  P = domain(M)\n",
    "  for i in range(1,len(P)-1): \n",
    "#\n",
    "      r = Symbol('r')\n",
    "#      \n",
    "      x_p = x[P[i]+1]\n",
    "      y_p = y[i]\n",
    "      solution = solve(x_p + r*(1-2*y_p) - 2*r**3, r)\n",
    "#      \n",
    "      y_1 = 1 - solution[0]**2\n",
    "#      \n",
    "      solution_list.append([solution[0],y_1])     \n",
    "#\n",
    "  return solution_list\n",
    "#\n",
    "# Test\n",
    "#\n",
    "B = (projection(10,domainY))# This is the boundary of Y\n",
    "A = (projection(10,domainX))# This is the boundary of X\n",
    "#\n",
    "print(domainY(13))\n",
    "print(domainX(13))\n",
    "#\n",
    "x  = []\n",
    "y = []\n",
    "#\n",
    "z = []\n",
    "w = []\n",
    "#\n",
    "x_1  = np.linspace(0,1,100)\n",
    "y_1 = 1-x_1**2\n",
    "#\n",
    "for i in B: \n",
    "  x.append(i[1])\n",
    "  y.append(i[0]) \n",
    "# \n",
    "for i in A: \n",
    "  z.append(i[1])\n",
    "  w.append(i[0])     \n",
    "#\n",
    "plt.figure(figsize = (6,6))\n",
    "plt.scatter(y, x)\n",
    "plt.scatter(w, z)\n",
    "plt.plot(x_1,y_1)\n",
    "plt.show()"
   ]
  },
  {
   "cell_type": "code",
   "execution_count": 167,
   "metadata": {},
   "outputs": [
    {
     "name": "stdout",
     "output_type": "stream",
     "text": [
      "[[9. 0. 0. 0. 0. 0. 0. 0. 0.]\n",
      " [8. 0. 0. 0. 0. 0. 0. 0. 0.]\n",
      " [7. 0. 0. 0. 0. 0. 0. 0. 0.]\n",
      " [6. 0. 0. 0. 0. 0. 0. 0. 0.]\n",
      " [5. 0. 0. 0. 0. 0. 0. 0. 0.]\n",
      " [4. 0. 0. 0. 0. 0. 0. 0. 0.]\n",
      " [3. 0. 0. 0. 0. 0. 0. 0. 0.]\n",
      " [2. 0. 0. 0. 0. 0. 0. 0. 0.]\n",
      " [1. 9. 8. 7. 6. 5. 4. 3. 2.]]\n"
     ]
    }
   ],
   "source": [
    "def normal_dirichlet(boundaries):\n",
    "    \"\"\" Create a one-dimensional vector for Dirichlet conditions. Uses natural ordering.\n",
    "\n",
    "    Args:\n",
    "        G (array(4 x M-1)): Matrix with row vectors corresponding respectively to boundary at x = x0, y = y0, x = xend, y = yend\n",
    "        alpha, beta (floats): Constants as defined in text. Optional arguments. \n",
    "\n",
    "    Returns:\n",
    "        g (array(M-1)^2): One dimensional array meant for use in linear system, using natural ordering\n",
    "    \"\"\"\n",
    "    l, r, b = boundaries\n",
    "    M = l.shape[0] - 1         # l is M+1\n",
    "    G = np.zeros((M-1, M-1))\n",
    "    G[0, :] += np.insert(b[M-1: 1: -1], 0, 0)\n",
    "    G[:, 0] += l[1:M]\n",
    "\n",
    "    return G.flatten()\n",
    "\n",
    "# Testing\n",
    "M = 10\n",
    "l = np.arange(M+1)\n",
    "b = np.arange(M+1)\n",
    "\n",
    "\n",
    "\n",
    "\n",
    "g2 = normal_dirichlet([l, r, b])\n",
    "#G = np.flip(g2.reshape((M-1,M-1)), 0)\n",
    "print(np.flip(g2.reshape((M-1,M-1)), 0))\n"
   ]
  },
  {
   "cell_type": "code",
   "execution_count": 146,
   "metadata": {},
   "outputs": [
    {
     "name": "stdout",
     "output_type": "stream",
     "text": [
      "16.0\n",
      "ah:3\n"
     ]
    },
    {
     "data": {
      "image/png": "[encoded data removed]",
      "text/plain": [
       "<Figure size 360x360 with 1 Axes>"
      ]
     },
     "metadata": {
      "needs_background": "light"
     },
     "output_type": "display_data"
    }
   ],
   "source": [
    "def ndiag(consts, offsets, N):\n",
    "    \"\"\"Generate a matrix with arbitrary number of constant diagonals, 0 elsewhere\n",
    "\n",
    "    Args:\n",
    "        consts (list of floats):    list containing floats on diagonal\n",
    "        offsets (list of ints):     list of offsets. Corresponds to the consts list\n",
    "        N (int):                    length of array\n",
    "\n",
    "    Returns:\n",
    "        A (N x N matrix):           matrix with diagonals as specified\n",
    "    \"\"\"\n",
    "    diags = []\n",
    "    for i in range(len(consts)):\n",
    "        diags.append(consts[i] * np.ones(N - np.abs(offsets[i])))\n",
    "\n",
    "    A = np.zeros((N,N))\n",
    "    for i in range(len(diags)):\n",
    "        A += np.diag(diags[i], offsets[i])\n",
    "    return A\n",
    "\n",
    "def triblock_mod(C, B, M, zerolist):\n",
    "    A = np.kron(np.eye(M-1), C)\n",
    "    A += np.kron(ndiag([1,1], [-1, 1], M-1), B)\n",
    "    if np.size(A) != len(zerolist)**4:\n",
    "        print(\"np.size(A) != len(zerolist)\")\n",
    "    for i in range(len(zerolist)):\n",
    "        A[(i*(len(zerolist))+zerolist[i]):(i+1)*(len(zerolist)), :] = 0\n",
    "    print(np.sqrt(np.size(A)))\n",
    "    for i in range(len(zerolist)**2):\n",
    "        if A[i,i] != 0:\n",
    "            if A[i+1,i+1] == 0:\n",
    "                A[i,i+1] = 0\n",
    "            if i < len(zerolist)**2 - len(zerolist):\n",
    "                if A[i+len(zerolist),i+len(zerolist)] == 0:\n",
    "                    A[i, i+len(zerolist)] = 0\n",
    "    return A\n",
    "\n",
    "# Testing\n",
    "M = 5\n",
    "C = ndiag([1,-2,1], [-1,0,1], (M-1))\n",
    "B = 3 * np.eye(M-1)\n",
    "A = triblock_mod(C, B, M, [4,3,3,1])\n",
    "print(\"ah:\"+str(len([3,2,1])))\n",
    "plt.figure(0, figsize = (5,5))\n",
    "plt.imshow(A)\n",
    "plt.show()"
   ]
  },
  {
   "cell_type": "code",
   "execution_count": null,
   "metadata": {},
   "outputs": [],
   "source": []
  }
 ],
 "metadata": {
  "kernelspec": {
   "display_name": "base",
   "language": "python",
   "name": "python3"
  },
  "language_info": {
   "codemirror_mode": {
    "name": "ipython",
    "version": 3
   },
   "file_extension": ".py",
   "mimetype": "text/x-python",
   "name": "python",
   "nbconvert_exporter": "python",
   "pygments_lexer": "ipython3",
   "version": "3.8.8"
  },
  "orig_nbformat": 4,
  "vscode": {
   "interpreter": {
    "hash": "ab8dee1c751574911c37790a0486d68e19b24432ad175fffdc44bba61836ec49"
   }
  }
 },
 "nbformat": 4,
 "nbformat_minor": 2
}
